{
 "cells": [
  {
   "cell_type": "markdown",
   "id": "8b446c1b",
   "metadata": {},
   "source": [
    "# Assignment 5: Calculating the beta (sensitivity to the market) of a stock.\n",
    "\n",
    "We're choosing 10 years data of Eicher Motors Ltd. stock (NSE: EICHERMOT) for the calculation. Also, we're choosing NSE's Index (NIFTY) for market data to reflect EICHERMOT's sensitivity to NIFTY (market). Data for both the stock and the market were obtained from *Yahoo Finance*.  \n",
    "#### Questions for this assignment:\n",
    "1. Create a function which calculates the Beta of a stock given a dataframe object as an input parameter.  \n",
    "   Your function should NOT use NumPy's .var() or .cov() methods. Instead, it should estimate the Beta manually (i.e. applying the formula for the Beta from scratch.)\n",
    "2. Calculate the Beta of your stock using the covariance and variance functions / methods built in to NumPy.\n",
    "3. Estimate the Beta of your stock using an appropriate module from SciPy. You may also use other packages, for instance, StatsModels.\n",
    "4. Comment on why your Beta estimates may be different, even though you're using exactly the same dataset for all 3 preceding questions. Please think about why, even if your own Beta estimates were identical for all 3 cases."
   ]
  },
  {
   "cell_type": "code",
   "execution_count": 1,
   "id": "0dd8a675",
   "metadata": {},
   "outputs": [],
   "source": [
    "import numpy as np\n",
    "import pandas as pd"
   ]
  },
  {
   "cell_type": "code",
   "execution_count": 2,
   "id": "97b07874",
   "metadata": {},
   "outputs": [
    {
     "data": {
      "text/html": [
       "<div>\n",
       "<style scoped>\n",
       "    .dataframe tbody tr th:only-of-type {\n",
       "        vertical-align: middle;\n",
       "    }\n",
       "\n",
       "    .dataframe tbody tr th {\n",
       "        vertical-align: top;\n",
       "    }\n",
       "\n",
       "    .dataframe thead th {\n",
       "        text-align: right;\n",
       "    }\n",
       "</style>\n",
       "<table border=\"1\" class=\"dataframe\">\n",
       "  <thead>\n",
       "    <tr style=\"text-align: right;\">\n",
       "      <th></th>\n",
       "      <th>price_eicher</th>\n",
       "      <th>price_nifty</th>\n",
       "    </tr>\n",
       "    <tr>\n",
       "      <th>date</th>\n",
       "      <th></th>\n",
       "      <th></th>\n",
       "    </tr>\n",
       "  </thead>\n",
       "  <tbody>\n",
       "    <tr>\n",
       "      <th>2012-08-06</th>\n",
       "      <td>178.564651</td>\n",
       "      <td>5282.549805</td>\n",
       "    </tr>\n",
       "    <tr>\n",
       "      <th>2012-08-07</th>\n",
       "      <td>182.342163</td>\n",
       "      <td>5336.700195</td>\n",
       "    </tr>\n",
       "    <tr>\n",
       "      <th>2012-08-08</th>\n",
       "      <td>183.598373</td>\n",
       "      <td>5338.000000</td>\n",
       "    </tr>\n",
       "    <tr>\n",
       "      <th>2012-08-09</th>\n",
       "      <td>183.413879</td>\n",
       "      <td>5322.950195</td>\n",
       "    </tr>\n",
       "    <tr>\n",
       "      <th>2012-08-10</th>\n",
       "      <td>181.718414</td>\n",
       "      <td>5320.399902</td>\n",
       "    </tr>\n",
       "    <tr>\n",
       "      <th>...</th>\n",
       "      <td>...</td>\n",
       "      <td>...</td>\n",
       "    </tr>\n",
       "    <tr>\n",
       "      <th>2022-07-27</th>\n",
       "      <td>3057.399902</td>\n",
       "      <td>16641.800781</td>\n",
       "    </tr>\n",
       "    <tr>\n",
       "      <th>2022-07-28</th>\n",
       "      <td>3054.000000</td>\n",
       "      <td>16929.599609</td>\n",
       "    </tr>\n",
       "    <tr>\n",
       "      <th>2022-07-29</th>\n",
       "      <td>3093.449951</td>\n",
       "      <td>17158.250000</td>\n",
       "    </tr>\n",
       "    <tr>\n",
       "      <th>2022-08-01</th>\n",
       "      <td>3088.399902</td>\n",
       "      <td>17340.050781</td>\n",
       "    </tr>\n",
       "    <tr>\n",
       "      <th>2022-08-02</th>\n",
       "      <td>3120.949951</td>\n",
       "      <td>17345.449219</td>\n",
       "    </tr>\n",
       "  </tbody>\n",
       "</table>\n",
       "<p>2466 rows × 2 columns</p>\n",
       "</div>"
      ],
      "text/plain": [
       "            price_eicher   price_nifty\n",
       "date                                  \n",
       "2012-08-06    178.564651   5282.549805\n",
       "2012-08-07    182.342163   5336.700195\n",
       "2012-08-08    183.598373   5338.000000\n",
       "2012-08-09    183.413879   5322.950195\n",
       "2012-08-10    181.718414   5320.399902\n",
       "...                  ...           ...\n",
       "2022-07-27   3057.399902  16641.800781\n",
       "2022-07-28   3054.000000  16929.599609\n",
       "2022-07-29   3093.449951  17158.250000\n",
       "2022-08-01   3088.399902  17340.050781\n",
       "2022-08-02   3120.949951  17345.449219\n",
       "\n",
       "[2466 rows x 2 columns]"
      ]
     },
     "execution_count": 2,
     "metadata": {},
     "output_type": "execute_result"
    }
   ],
   "source": [
    "# Extracting 'EICHERMOT' and 'NIFTY' 10 years price data\n",
    "df = pd.read_csv(\"EICHERMOT.NS.csv\")\n",
    "nse = pd.read_csv(\"^NSEI.csv\")\n",
    "df = df[['Date','Adj Close']]\n",
    "df.rename(columns = {'Date' : 'date', 'Adj Close' : 'price_eicher'}, inplace = True)\n",
    "df['price_nifty'] = nse['Adj Close']\n",
    "df.set_index(['date'], inplace = True)\n",
    "df"
   ]
  },
  {
   "cell_type": "code",
   "execution_count": 3,
   "id": "089aa08e",
   "metadata": {},
   "outputs": [
    {
     "data": {
      "text/html": [
       "<div>\n",
       "<style scoped>\n",
       "    .dataframe tbody tr th:only-of-type {\n",
       "        vertical-align: middle;\n",
       "    }\n",
       "\n",
       "    .dataframe tbody tr th {\n",
       "        vertical-align: top;\n",
       "    }\n",
       "\n",
       "    .dataframe thead th {\n",
       "        text-align: right;\n",
       "    }\n",
       "</style>\n",
       "<table border=\"1\" class=\"dataframe\">\n",
       "  <thead>\n",
       "    <tr style=\"text-align: right;\">\n",
       "      <th></th>\n",
       "      <th>returns_eicher</th>\n",
       "      <th>returns_nifty</th>\n",
       "    </tr>\n",
       "    <tr>\n",
       "      <th>date</th>\n",
       "      <th></th>\n",
       "      <th></th>\n",
       "    </tr>\n",
       "  </thead>\n",
       "  <tbody>\n",
       "    <tr>\n",
       "      <th>2012-08-07</th>\n",
       "      <td>0.021155</td>\n",
       "      <td>0.010251</td>\n",
       "    </tr>\n",
       "    <tr>\n",
       "      <th>2012-08-08</th>\n",
       "      <td>0.006889</td>\n",
       "      <td>0.000244</td>\n",
       "    </tr>\n",
       "    <tr>\n",
       "      <th>2012-08-09</th>\n",
       "      <td>-0.001005</td>\n",
       "      <td>-0.002819</td>\n",
       "    </tr>\n",
       "    <tr>\n",
       "      <th>2012-08-10</th>\n",
       "      <td>-0.009244</td>\n",
       "      <td>-0.000479</td>\n",
       "    </tr>\n",
       "    <tr>\n",
       "      <th>2012-08-13</th>\n",
       "      <td>0.005221</td>\n",
       "      <td>0.005169</td>\n",
       "    </tr>\n",
       "    <tr>\n",
       "      <th>...</th>\n",
       "      <td>...</td>\n",
       "      <td>...</td>\n",
       "    </tr>\n",
       "    <tr>\n",
       "      <th>2022-07-27</th>\n",
       "      <td>0.011279</td>\n",
       "      <td>0.009582</td>\n",
       "    </tr>\n",
       "    <tr>\n",
       "      <th>2022-07-28</th>\n",
       "      <td>-0.001112</td>\n",
       "      <td>0.017294</td>\n",
       "    </tr>\n",
       "    <tr>\n",
       "      <th>2022-07-29</th>\n",
       "      <td>0.012917</td>\n",
       "      <td>0.013506</td>\n",
       "    </tr>\n",
       "    <tr>\n",
       "      <th>2022-08-01</th>\n",
       "      <td>-0.001632</td>\n",
       "      <td>0.010596</td>\n",
       "    </tr>\n",
       "    <tr>\n",
       "      <th>2022-08-02</th>\n",
       "      <td>0.010539</td>\n",
       "      <td>0.000311</td>\n",
       "    </tr>\n",
       "  </tbody>\n",
       "</table>\n",
       "<p>2465 rows × 2 columns</p>\n",
       "</div>"
      ],
      "text/plain": [
       "            returns_eicher  returns_nifty\n",
       "date                                     \n",
       "2012-08-07        0.021155       0.010251\n",
       "2012-08-08        0.006889       0.000244\n",
       "2012-08-09       -0.001005      -0.002819\n",
       "2012-08-10       -0.009244      -0.000479\n",
       "2012-08-13        0.005221       0.005169\n",
       "...                    ...            ...\n",
       "2022-07-27        0.011279       0.009582\n",
       "2022-07-28       -0.001112       0.017294\n",
       "2022-07-29        0.012917       0.013506\n",
       "2022-08-01       -0.001632       0.010596\n",
       "2022-08-02        0.010539       0.000311\n",
       "\n",
       "[2465 rows x 2 columns]"
      ]
     },
     "execution_count": 3,
     "metadata": {},
     "output_type": "execute_result"
    }
   ],
   "source": [
    "# Finding daily price returns\n",
    "returns_df = df.pct_change(1)\n",
    "returns_df.dropna(inplace = True)\n",
    "returns_df.rename(columns = {'price_eicher':'returns_eicher', 'price_nifty':'returns_nifty'}, inplace = True)\n",
    "returns_df"
   ]
  },
  {
   "cell_type": "markdown",
   "id": "923e4ea3",
   "metadata": {},
   "source": [
    "## Part 1:"
   ]
  },
  {
   "cell_type": "code",
   "execution_count": 4,
   "id": "b47b9b9a",
   "metadata": {},
   "outputs": [
    {
     "data": {
      "text/html": [
       "<div>\n",
       "<style scoped>\n",
       "    .dataframe tbody tr th:only-of-type {\n",
       "        vertical-align: middle;\n",
       "    }\n",
       "\n",
       "    .dataframe tbody tr th {\n",
       "        vertical-align: top;\n",
       "    }\n",
       "\n",
       "    .dataframe thead th {\n",
       "        text-align: right;\n",
       "    }\n",
       "</style>\n",
       "<table border=\"1\" class=\"dataframe\">\n",
       "  <thead>\n",
       "    <tr style=\"text-align: right;\">\n",
       "      <th></th>\n",
       "      <th>dev_eicher</th>\n",
       "      <th>dev_nifty</th>\n",
       "    </tr>\n",
       "    <tr>\n",
       "      <th>date</th>\n",
       "      <th></th>\n",
       "      <th></th>\n",
       "    </tr>\n",
       "  </thead>\n",
       "  <tbody>\n",
       "    <tr>\n",
       "      <th>2012-08-07</th>\n",
       "      <td>0.019772</td>\n",
       "      <td>0.009710</td>\n",
       "    </tr>\n",
       "    <tr>\n",
       "      <th>2012-08-08</th>\n",
       "      <td>0.005507</td>\n",
       "      <td>-0.000298</td>\n",
       "    </tr>\n",
       "    <tr>\n",
       "      <th>2012-08-09</th>\n",
       "      <td>-0.002388</td>\n",
       "      <td>-0.003361</td>\n",
       "    </tr>\n",
       "    <tr>\n",
       "      <th>2012-08-10</th>\n",
       "      <td>-0.010627</td>\n",
       "      <td>-0.001020</td>\n",
       "    </tr>\n",
       "    <tr>\n",
       "      <th>2012-08-13</th>\n",
       "      <td>0.003838</td>\n",
       "      <td>0.004628</td>\n",
       "    </tr>\n",
       "    <tr>\n",
       "      <th>...</th>\n",
       "      <td>...</td>\n",
       "      <td>...</td>\n",
       "    </tr>\n",
       "    <tr>\n",
       "      <th>2022-07-27</th>\n",
       "      <td>0.009896</td>\n",
       "      <td>0.009041</td>\n",
       "    </tr>\n",
       "    <tr>\n",
       "      <th>2022-07-28</th>\n",
       "      <td>-0.002495</td>\n",
       "      <td>0.016753</td>\n",
       "    </tr>\n",
       "    <tr>\n",
       "      <th>2022-07-29</th>\n",
       "      <td>0.011535</td>\n",
       "      <td>0.012965</td>\n",
       "    </tr>\n",
       "    <tr>\n",
       "      <th>2022-08-01</th>\n",
       "      <td>-0.003015</td>\n",
       "      <td>0.010054</td>\n",
       "    </tr>\n",
       "    <tr>\n",
       "      <th>2022-08-02</th>\n",
       "      <td>0.009157</td>\n",
       "      <td>-0.000230</td>\n",
       "    </tr>\n",
       "  </tbody>\n",
       "</table>\n",
       "<p>2465 rows × 2 columns</p>\n",
       "</div>"
      ],
      "text/plain": [
       "            dev_eicher  dev_nifty\n",
       "date                             \n",
       "2012-08-07    0.019772   0.009710\n",
       "2012-08-08    0.005507  -0.000298\n",
       "2012-08-09   -0.002388  -0.003361\n",
       "2012-08-10   -0.010627  -0.001020\n",
       "2012-08-13    0.003838   0.004628\n",
       "...                ...        ...\n",
       "2022-07-27    0.009896   0.009041\n",
       "2022-07-28   -0.002495   0.016753\n",
       "2022-07-29    0.011535   0.012965\n",
       "2022-08-01   -0.003015   0.010054\n",
       "2022-08-02    0.009157  -0.000230\n",
       "\n",
       "[2465 rows x 2 columns]"
      ]
     },
     "execution_count": 4,
     "metadata": {},
     "output_type": "execute_result"
    }
   ],
   "source": [
    "# Calculating deviations from the mean\n",
    "deviations = returns_df - returns_df.mean()\n",
    "deviations.rename(columns = {'returns_eicher':'dev_eicher', 'returns_nifty':'dev_nifty'}, inplace = True)\n",
    "deviations"
   ]
  },
  {
   "cell_type": "code",
   "execution_count": 5,
   "id": "eacaf57e",
   "metadata": {},
   "outputs": [
    {
     "data": {
      "text/html": [
       "<div>\n",
       "<style scoped>\n",
       "    .dataframe tbody tr th:only-of-type {\n",
       "        vertical-align: middle;\n",
       "    }\n",
       "\n",
       "    .dataframe tbody tr th {\n",
       "        vertical-align: top;\n",
       "    }\n",
       "\n",
       "    .dataframe thead th {\n",
       "        text-align: right;\n",
       "    }\n",
       "</style>\n",
       "<table border=\"1\" class=\"dataframe\">\n",
       "  <thead>\n",
       "    <tr style=\"text-align: right;\">\n",
       "      <th></th>\n",
       "      <th>dev_eicher</th>\n",
       "      <th>dev_nifty</th>\n",
       "      <th>product_dev</th>\n",
       "    </tr>\n",
       "    <tr>\n",
       "      <th>date</th>\n",
       "      <th></th>\n",
       "      <th></th>\n",
       "      <th></th>\n",
       "    </tr>\n",
       "  </thead>\n",
       "  <tbody>\n",
       "    <tr>\n",
       "      <th>2012-08-07</th>\n",
       "      <td>0.019772</td>\n",
       "      <td>0.009710</td>\n",
       "      <td>0.000192</td>\n",
       "    </tr>\n",
       "    <tr>\n",
       "      <th>2012-08-08</th>\n",
       "      <td>0.005507</td>\n",
       "      <td>-0.000298</td>\n",
       "      <td>-0.000002</td>\n",
       "    </tr>\n",
       "    <tr>\n",
       "      <th>2012-08-09</th>\n",
       "      <td>-0.002388</td>\n",
       "      <td>-0.003361</td>\n",
       "      <td>0.000008</td>\n",
       "    </tr>\n",
       "    <tr>\n",
       "      <th>2012-08-10</th>\n",
       "      <td>-0.010627</td>\n",
       "      <td>-0.001020</td>\n",
       "      <td>0.000011</td>\n",
       "    </tr>\n",
       "    <tr>\n",
       "      <th>2012-08-13</th>\n",
       "      <td>0.003838</td>\n",
       "      <td>0.004628</td>\n",
       "      <td>0.000018</td>\n",
       "    </tr>\n",
       "    <tr>\n",
       "      <th>...</th>\n",
       "      <td>...</td>\n",
       "      <td>...</td>\n",
       "      <td>...</td>\n",
       "    </tr>\n",
       "    <tr>\n",
       "      <th>2022-07-27</th>\n",
       "      <td>0.009896</td>\n",
       "      <td>0.009041</td>\n",
       "      <td>0.000089</td>\n",
       "    </tr>\n",
       "    <tr>\n",
       "      <th>2022-07-28</th>\n",
       "      <td>-0.002495</td>\n",
       "      <td>0.016753</td>\n",
       "      <td>-0.000042</td>\n",
       "    </tr>\n",
       "    <tr>\n",
       "      <th>2022-07-29</th>\n",
       "      <td>0.011535</td>\n",
       "      <td>0.012965</td>\n",
       "      <td>0.000150</td>\n",
       "    </tr>\n",
       "    <tr>\n",
       "      <th>2022-08-01</th>\n",
       "      <td>-0.003015</td>\n",
       "      <td>0.010054</td>\n",
       "      <td>-0.000030</td>\n",
       "    </tr>\n",
       "    <tr>\n",
       "      <th>2022-08-02</th>\n",
       "      <td>0.009157</td>\n",
       "      <td>-0.000230</td>\n",
       "      <td>-0.000002</td>\n",
       "    </tr>\n",
       "  </tbody>\n",
       "</table>\n",
       "<p>2465 rows × 3 columns</p>\n",
       "</div>"
      ],
      "text/plain": [
       "            dev_eicher  dev_nifty  product_dev\n",
       "date                                          \n",
       "2012-08-07    0.019772   0.009710     0.000192\n",
       "2012-08-08    0.005507  -0.000298    -0.000002\n",
       "2012-08-09   -0.002388  -0.003361     0.000008\n",
       "2012-08-10   -0.010627  -0.001020     0.000011\n",
       "2012-08-13    0.003838   0.004628     0.000018\n",
       "...                ...        ...          ...\n",
       "2022-07-27    0.009896   0.009041     0.000089\n",
       "2022-07-28   -0.002495   0.016753    -0.000042\n",
       "2022-07-29    0.011535   0.012965     0.000150\n",
       "2022-08-01   -0.003015   0.010054    -0.000030\n",
       "2022-08-02    0.009157  -0.000230    -0.000002\n",
       "\n",
       "[2465 rows x 3 columns]"
      ]
     },
     "execution_count": 5,
     "metadata": {},
     "output_type": "execute_result"
    }
   ],
   "source": [
    "# Calculating product of deviations\n",
    "product = deviations['dev_eicher'] * deviations['dev_nifty']\n",
    "deviations['product_dev'] = product\n",
    "deviations"
   ]
  },
  {
   "cell_type": "code",
   "execution_count": 6,
   "id": "01d3024c",
   "metadata": {},
   "outputs": [
    {
     "name": "stdout",
     "output_type": "stream",
     "text": [
      "Covariance of EICHERMOT & NIFTY = 0.00010767365606828264\n",
      "Variance of NIFTY = 0.00011672859190361362\n",
      "Beta of EICHERMOT = 0.9224274388334273\n"
     ]
    }
   ],
   "source": [
    "# Calculating covariance, variance and beta\n",
    "cov_eicher = deviations['product_dev'].sum() / (len(deviations['dev_eicher']) - 1)\n",
    "squared_dev_nifty = deviations['dev_nifty'] ** 2\n",
    "var_nifty = squared_dev_nifty.sum() / (len(deviations['dev_nifty']) - 1)\n",
    "beta_eicher = cov_eicher / var_nifty\n",
    "\n",
    "print('Covariance of EICHERMOT & NIFTY =', cov_eicher)\n",
    "print('Variance of NIFTY =', var_nifty)\n",
    "print('Beta of EICHERMOT =', beta_eicher)"
   ]
  },
  {
   "cell_type": "markdown",
   "id": "cb5b0281",
   "metadata": {},
   "source": [
    "## Part 2:"
   ]
  },
  {
   "cell_type": "code",
   "execution_count": 7,
   "id": "0520f6c4",
   "metadata": {},
   "outputs": [
    {
     "data": {
      "text/plain": [
       "array([[0.00044542, 0.00010767],\n",
       "       [0.00010767, 0.00011673]])"
      ]
     },
     "execution_count": 7,
     "metadata": {},
     "output_type": "execute_result"
    }
   ],
   "source": [
    "# Generating a Covariance matrix using NumPy\n",
    "cov_matrix = np.cov(returns_df['returns_eicher'], returns_df['returns_nifty'])\n",
    "cov_matrix"
   ]
  },
  {
   "cell_type": "code",
   "execution_count": 8,
   "id": "9a2dc5ee",
   "metadata": {},
   "outputs": [
    {
     "name": "stdout",
     "output_type": "stream",
     "text": [
      "Covariance of EICHERMOT & NIFTY is 0.00010767365606828264\n",
      "Also, by using the another way results in the same 0.00010767365606828264\n",
      "Variance of NIFTY is 0.00011672859190361364\n",
      "Beta of EICHERMOT is 0.922427438833427\n"
     ]
    }
   ],
   "source": [
    "# Finding covariances and variances from the matrix\n",
    "\n",
    "# Covariance of EICHERMOT and NIFTY\n",
    "cov_eicher = cov_matrix[0][1]\n",
    "# another way\n",
    "cov_eicher2 = cov_matrix[1][0]\n",
    "\n",
    "# Variance of NIFTY\n",
    "var_nifty = cov_matrix[1][1]\n",
    "\n",
    "# Variance of EITHERMOT (for sake of it)\n",
    "var_eicher = cov_matrix[0][0]\n",
    "\n",
    "# Beta of EICHERMOT\n",
    "beta_eicher = cov_eicher / var_nifty\n",
    "\n",
    "print('Covariance of EICHERMOT & NIFTY is', cov_eicher)\n",
    "print('Also, by using the another way results in the same', cov_eicher2)\n",
    "print('Variance of NIFTY is', var_nifty)\n",
    "print('Beta of EICHERMOT is', beta_eicher)"
   ]
  },
  {
   "cell_type": "markdown",
   "id": "da09c6b8",
   "metadata": {},
   "source": [
    "## Part 3:"
   ]
  },
  {
   "cell_type": "code",
   "execution_count": 12,
   "id": "a11315e0",
   "metadata": {},
   "outputs": [],
   "source": [
    "# Calculating Slope(i.e. Beta) using linregress\n",
    "from scipy.stats import linregress"
   ]
  },
  {
   "cell_type": "code",
   "execution_count": 10,
   "id": "9eacc129",
   "metadata": {},
   "outputs": [
    {
     "data": {
      "text/plain": [
       "LinregressResult(slope=0.9224274388334269, intercept=0.0008834619163263924, rvalue=0.4722124465242419, pvalue=3.9400623778685043e-137, stderr=0.03469583884350522, intercept_stderr=0.0003752514059685537)"
      ]
     },
     "execution_count": 10,
     "metadata": {},
     "output_type": "execute_result"
    }
   ],
   "source": [
    "# 'returns_eicher' are dependent variables i.e. variable 'y'\n",
    "# 'returns_nifty' are independent variables i.e. variable 'x'\n",
    "statistical_test = linregress(y = returns_df['returns_eicher'], x = returns_df['returns_nifty'])\n",
    "statistical_test"
   ]
  },
  {
   "cell_type": "code",
   "execution_count": 11,
   "id": "910002b6",
   "metadata": {},
   "outputs": [
    {
     "name": "stdout",
     "output_type": "stream",
     "text": [
      "Beta of EICHERMOT is 0.9224274388334269\n"
     ]
    }
   ],
   "source": [
    "print('Beta of EICHERMOT is', statistical_test.slope)"
   ]
  },
  {
   "cell_type": "markdown",
   "id": "698fa7e6",
   "metadata": {},
   "source": [
    "## Part 4:"
   ]
  },
  {
   "cell_type": "markdown",
   "id": "f5b587b0",
   "metadata": {},
   "source": [
    "The Beta resulting using the traditional formula way, NumPy and scipy.stats.linregress are almost identical. The minmuscule difference arises due to the difference in how these methods round off the decimals while calculating."
   ]
  },
  {
   "cell_type": "code",
   "execution_count": null,
   "id": "ff65a7a5",
   "metadata": {},
   "outputs": [],
   "source": []
  }
 ],
 "metadata": {
  "kernelspec": {
   "display_name": "Python 3 (Spyder)",
   "language": "python3",
   "name": "python3"
  },
  "language_info": {
   "codemirror_mode": {
    "name": "ipython",
    "version": 3
   },
   "file_extension": ".py",
   "mimetype": "text/x-python",
   "name": "python",
   "nbconvert_exporter": "python",
   "pygments_lexer": "ipython3",
   "version": "3.8.8"
  }
 },
 "nbformat": 4,
 "nbformat_minor": 5
}
