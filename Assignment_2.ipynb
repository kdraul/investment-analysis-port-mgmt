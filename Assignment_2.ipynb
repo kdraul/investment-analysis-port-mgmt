{
 "cells": [
  {
   "cell_type": "markdown",
   "id": "d5fbb36f",
   "metadata": {},
   "source": [
    "## Assignment 2 : Calculating expected returns of a stock and developing a function for the calculation of expected returns\n",
    "\n",
    "The **weekly price data** for Apple Inc. (AAPL) was gathered from *Yahoo Finance*.\n",
    "\n",
    "**Questions for this assignment:**  \n",
    "Part A : Calculate the annual expected return, conditional on weekly returns data.  \n",
    "Part B : Extend the getExpectedReturns function created in the video to incorporate computations of Expected Returns using weekly data AND daily data."
   ]
  },
  {
   "cell_type": "code",
   "execution_count": 1,
   "id": "7b0fd658",
   "metadata": {},
   "outputs": [],
   "source": [
    "import pandas as pd"
   ]
  },
  {
   "cell_type": "markdown",
   "id": "c40e5d6d",
   "metadata": {},
   "source": [
    "### Part A of the assignment"
   ]
  },
  {
   "cell_type": "code",
   "execution_count": 2,
   "id": "9513de62",
   "metadata": {},
   "outputs": [
    {
     "data": {
      "text/html": [
       "<div>\n",
       "<style scoped>\n",
       "    .dataframe tbody tr th:only-of-type {\n",
       "        vertical-align: middle;\n",
       "    }\n",
       "\n",
       "    .dataframe tbody tr th {\n",
       "        vertical-align: top;\n",
       "    }\n",
       "\n",
       "    .dataframe thead th {\n",
       "        text-align: right;\n",
       "    }\n",
       "</style>\n",
       "<table border=\"1\" class=\"dataframe\">\n",
       "  <thead>\n",
       "    <tr style=\"text-align: right;\">\n",
       "      <th></th>\n",
       "      <th>date</th>\n",
       "      <th>price_t</th>\n",
       "      <th>returns</th>\n",
       "    </tr>\n",
       "  </thead>\n",
       "  <tbody>\n",
       "    <tr>\n",
       "      <th>0</th>\n",
       "      <td>2000-01-01</td>\n",
       "      <td>0.759592</td>\n",
       "      <td>NaN</td>\n",
       "    </tr>\n",
       "    <tr>\n",
       "      <th>1</th>\n",
       "      <td>2000-01-08</td>\n",
       "      <td>0.766748</td>\n",
       "      <td>0.009421</td>\n",
       "    </tr>\n",
       "    <tr>\n",
       "      <th>2</th>\n",
       "      <td>2000-01-15</td>\n",
       "      <td>0.849770</td>\n",
       "      <td>0.108278</td>\n",
       "    </tr>\n",
       "    <tr>\n",
       "      <th>3</th>\n",
       "      <td>2000-01-22</td>\n",
       "      <td>0.775814</td>\n",
       "      <td>-0.087031</td>\n",
       "    </tr>\n",
       "    <tr>\n",
       "      <th>4</th>\n",
       "      <td>2000-01-29</td>\n",
       "      <td>0.824482</td>\n",
       "      <td>0.062732</td>\n",
       "    </tr>\n",
       "    <tr>\n",
       "      <th>...</th>\n",
       "      <td>...</td>\n",
       "      <td>...</td>\n",
       "      <td>...</td>\n",
       "    </tr>\n",
       "    <tr>\n",
       "      <th>413</th>\n",
       "      <td>2007-12-01</td>\n",
       "      <td>5.933213</td>\n",
       "      <td>0.066293</td>\n",
       "    </tr>\n",
       "    <tr>\n",
       "      <th>414</th>\n",
       "      <td>2007-12-08</td>\n",
       "      <td>5.813816</td>\n",
       "      <td>-0.020123</td>\n",
       "    </tr>\n",
       "    <tr>\n",
       "      <th>415</th>\n",
       "      <td>2007-12-15</td>\n",
       "      <td>5.921306</td>\n",
       "      <td>0.018489</td>\n",
       "    </tr>\n",
       "    <tr>\n",
       "      <th>416</th>\n",
       "      <td>2007-12-22</td>\n",
       "      <td>6.102080</td>\n",
       "      <td>0.030529</td>\n",
       "    </tr>\n",
       "    <tr>\n",
       "      <th>417</th>\n",
       "      <td>2007-12-29</td>\n",
       "      <td>NaN</td>\n",
       "      <td>0.000000</td>\n",
       "    </tr>\n",
       "  </tbody>\n",
       "</table>\n",
       "<p>418 rows × 3 columns</p>\n",
       "</div>"
      ],
      "text/plain": [
       "           date   price_t   returns\n",
       "0    2000-01-01  0.759592       NaN\n",
       "1    2000-01-08  0.766748  0.009421\n",
       "2    2000-01-15  0.849770  0.108278\n",
       "3    2000-01-22  0.775814 -0.087031\n",
       "4    2000-01-29  0.824482  0.062732\n",
       "..          ...       ...       ...\n",
       "413  2007-12-01  5.933213  0.066293\n",
       "414  2007-12-08  5.813816 -0.020123\n",
       "415  2007-12-15  5.921306  0.018489\n",
       "416  2007-12-22  6.102080  0.030529\n",
       "417  2007-12-29       NaN  0.000000\n",
       "\n",
       "[418 rows x 3 columns]"
      ]
     },
     "execution_count": 2,
     "metadata": {},
     "output_type": "execute_result"
    }
   ],
   "source": [
    "apple = pd.read_csv(\"Assignment_2\\AAPL_Jan2000_to_Dec2007.csv\")\n",
    "apple = apple[['Date', 'Adj Close']]\n",
    "apple.rename(columns={'Date' : 'date', 'Adj Close' : 'price_t'}, inplace=True)\n",
    "apple['returns'] = apple['price_t'].pct_change(1)\n",
    "apple"
   ]
  },
  {
   "cell_type": "code",
   "execution_count": 7,
   "id": "9228a1af",
   "metadata": {},
   "outputs": [
    {
     "data": {
      "text/plain": [
       "0.007345533151818172"
      ]
     },
     "execution_count": 7,
     "metadata": {},
     "output_type": "execute_result"
    }
   ],
   "source": [
    "expected_weekly_return = apple['returns'].mean()\n",
    "expected_weekly_return"
   ]
  },
  {
   "cell_type": "code",
   "execution_count": 8,
   "id": "54f9e2a6",
   "metadata": {},
   "outputs": [
    {
     "data": {
      "text/plain": [
       "0.3672766575909086"
      ]
     },
     "execution_count": 8,
     "metadata": {},
     "output_type": "execute_result"
    }
   ],
   "source": [
    "# Crude return assuming 50 weeks in a year\n",
    "expected_annual_return = expected_weekly_return * 50\n",
    "expected_annual_return"
   ]
  },
  {
   "cell_type": "code",
   "execution_count": 9,
   "id": "3999108e",
   "metadata": {},
   "outputs": [
    {
     "data": {
      "text/plain": [
       "0.4418605174934569"
      ]
     },
     "execution_count": 9,
     "metadata": {},
     "output_type": "execute_result"
    }
   ],
   "source": [
    "# Sophisticated return assuming 50 weeks in a year\n",
    "expected_annual_return = ((1 + expected_weekly_return) ** 50) - 1\n",
    "expected_annual_return"
   ]
  },
  {
   "cell_type": "markdown",
   "id": "9e62df2d",
   "metadata": {},
   "source": [
    "### Part B of the assignment"
   ]
  },
  {
   "cell_type": "code",
   "execution_count": 10,
   "id": "950adef7",
   "metadata": {},
   "outputs": [],
   "source": [
    " def getExpectedReturns(df, price_col_name, frequency='daily', annualised=True, annualise_method='sophisticated'):\n",
    "    \"\"\"\n",
    "    Returns the expected return (weekly/daily) of a stock given price data.\n",
    "    \"\"\"\n",
    "    returns = df[price_col_name].pct_change(1)\n",
    "\n",
    "    expected_return = returns.mean()\n",
    "    \n",
    "    if annualised:\n",
    "        if annualise_method == 'sophisticated':\n",
    "            if frequency == 'weekly':\n",
    "                expected_return_annual = ((1 + expected_return) ** 50)  - 1\n",
    "            elif frequency == 'daily':\n",
    "                expected_return_annual = ((1 + expected_return) ** 250)  - 1\n",
    "        elif annualise_method == 'crude':\n",
    "            if frequency == 'weekly':\n",
    "                expected_return_annual = expected_return * 50\n",
    "            elif frequency == 'daily':\n",
    "                expected_return_annual = expected_return * 250\n",
    "            \n",
    "        return expected_return_annual\n",
    "    \n",
    "    else:\n",
    "        return expected_return"
   ]
  },
  {
   "cell_type": "code",
   "execution_count": 12,
   "id": "c255abf2",
   "metadata": {},
   "outputs": [
    {
     "data": {
      "text/plain": [
       "0.4418605174934569"
      ]
     },
     "execution_count": 12,
     "metadata": {},
     "output_type": "execute_result"
    }
   ],
   "source": [
    "getExpectedReturns(apple, 'price_t' , frequency='weekly', annualise_method='sophisticated')"
   ]
  },
  {
   "cell_type": "code",
   "execution_count": null,
   "id": "c804fed5",
   "metadata": {},
   "outputs": [],
   "source": []
  }
 ],
 "metadata": {
  "kernelspec": {
   "display_name": "Python 3 (Spyder)",
   "language": "python3",
   "name": "python3"
  },
  "language_info": {
   "codemirror_mode": {
    "name": "ipython",
    "version": 3
   },
   "file_extension": ".py",
   "mimetype": "text/x-python",
   "name": "python",
   "nbconvert_exporter": "python",
   "pygments_lexer": "ipython3",
   "version": "3.8.8"
  }
 },
 "nbformat": 4,
 "nbformat_minor": 5
}
