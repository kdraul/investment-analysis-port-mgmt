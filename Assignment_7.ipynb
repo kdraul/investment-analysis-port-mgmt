{
 "cells": [
  {
   "cell_type": "markdown",
   "id": "04b880a0",
   "metadata": {},
   "source": [
    "# Assignment 7: Optimising Portfolio Weights\n",
    "The assignment requires us to generate a portfolio of 10-15 stocks, optimise it according to the given tasks and compare it to the market portfolio.  \n",
    "The portfolio of stocks should be Long only, i.e. the portfolio only buys an asset and doesn't take any short positions.  \n",
    "\n",
    "The given tasks are:\n",
    "> **Task 1:** Optimise your portfolio weights so that the expected return on your 10-15 asset portfolio is equal to the annualised expected return on the market portfolio.\n",
    "What is the risk of your portfolio now? How does it compare to the market portfolio?\n",
    "How does it compare to the performance using the initialised weights?\n",
    "\n",
    "> **Task 2:** Optimise your portfolio weights so that the risk of your 10-15 asset portfolio is equal to the annualised risk of the market portfolio.\n",
    "What is the expected return on your portfolio now? How does it compare to the market portfolio?\n",
    "\n",
    "> **Task 3:** Optimise your portfolio weights so that the risk of your portfolio is minimised.\n",
    "What is the expected return on your portfolio now? How does it compare to the market portfolio?\n",
    "\n",
    "> **Task 4:** Based on the results from your optimisations, would you invest in your portfolio, or would you invest in the market portfolio instead?\n",
    "Why?\n",
    "\n",
    "I decided to generate a portfolio of 10 stocks from the 'Hospitality sector' in India. Stocks are listed on the National Stock Exchange of India, Mumbai (except for '*Sayaji Hotels*' which is listed on the BSE, Mumbai). The companies in the portfolio required to have at least 5 years of price data (i.e. companies that were listed since August, 2017) The companies I chose are:\n",
    "\n",
    "1. Indian Hotels Company Limited (INDHOTEL)\n",
    "2. Oriental Hotels Limited (ORIENTHOT)\n",
    "3. Sayaji Hotels Limited (SAYAJIHOTL)\n",
    "4. Jubilant FoodWorks Limited (JUBLFOOD)\n",
    "5. EIH Limited (EIHOTEL)\n",
    "6. Speciality Restaurants Limited (SPECIALITY)\n",
    "7. Royal Orchid Hotels Limited (ROHLTD)\n",
    "8. Wonderla Holidays Limited (WONDERLA)\n",
    "9. HLV Limited (HLVLTD)\n",
    "10. BLS International Services Limited (BLS)\n",
    "  \n",
    "Price data for these stocks were obtained from *Yahoo Finance*. The price data pertains to the period from 5th August, 2017 to 4th August, 2022 (a 5-year period).\n",
    "\n",
    "We will be using 'NIFTY MICROCAP 250', a benchmark index of 250 Indian companies listed on the NSE India, which are beyond the NIFTY 500 list of companies (Comapnies ranked *501<sup>st</sup> to 750<sup>th</sup>* as per market capitalisation on NSE), as a representation for the market these portfolio stocks represent. Data for MICROCAP 250 was obtained from *NSE Indices* website.\n",
    "\n",
    "The reason for choosing MICROCAP 250 instead of the usual 'NIFTY 50' from the NSE is because none of the stocks in the portfolio are in the NIFTY 50 basket of stocks. Also, more than half of the stocks in the portfolio would be considered as '*Small-Caps*' in market parlence."
   ]
  },
  {
   "cell_type": "code",
   "execution_count": 1,
   "id": "009dd7c5",
   "metadata": {},
   "outputs": [],
   "source": [
    "# We start by importing the important libraries in Python\n",
    "\n",
    "import numpy as np\n",
    "import pandas as pd\n",
    "from scipy.optimize import minimize"
   ]
  },
  {
   "cell_type": "code",
   "execution_count": 2,
   "id": "10aab482",
   "metadata": {},
   "outputs": [],
   "source": [
    "# Importing price data of the assets in the portfolio\n",
    "\n",
    "indhotel = pd.read_csv('INDHOTEL.NS.csv')\n",
    "orienthot = pd.read_csv('ORIENTHOT.NS.csv')\n",
    "sayajihotl = pd.read_csv('SAYAJIHOTL.BO.csv')\n",
    "jublfood = pd.read_csv('JUBLFOOD.NS.csv')\n",
    "eihotel = pd.read_csv('EIHOTEL.NS.csv')\n",
    "speciality = pd.read_csv('SPECIALITY.NS.csv')\n",
    "rohltd = pd.read_csv('ROHLTD.NS.csv')\n",
    "wonderla = pd.read_csv('WONDERLA.NS.csv')\n",
    "hlvltd = pd.read_csv('HLVLTD.NS.csv')\n",
    "bls = pd.read_csv('BLS.NS.csv')"
   ]
  },
  {
   "cell_type": "code",
   "execution_count": 3,
   "id": "15e516f8",
   "metadata": {},
   "outputs": [
    {
     "data": {
      "text/html": [
       "<div>\n",
       "<style scoped>\n",
       "    .dataframe tbody tr th:only-of-type {\n",
       "        vertical-align: middle;\n",
       "    }\n",
       "\n",
       "    .dataframe tbody tr th {\n",
       "        vertical-align: top;\n",
       "    }\n",
       "\n",
       "    .dataframe thead th {\n",
       "        text-align: right;\n",
       "    }\n",
       "</style>\n",
       "<table border=\"1\" class=\"dataframe\">\n",
       "  <thead>\n",
       "    <tr style=\"text-align: right;\">\n",
       "      <th></th>\n",
       "      <th>INDHOTEL</th>\n",
       "      <th>ORIENTHOT</th>\n",
       "      <th>SAYAJIHOTL</th>\n",
       "      <th>JUBLFOOD</th>\n",
       "      <th>EIHOTEL</th>\n",
       "      <th>SPECIALITY</th>\n",
       "      <th>ROHLTD</th>\n",
       "      <th>WONDERLA</th>\n",
       "      <th>HLVLTD</th>\n",
       "      <th>BLS</th>\n",
       "    </tr>\n",
       "    <tr>\n",
       "      <th>date</th>\n",
       "      <th></th>\n",
       "      <th></th>\n",
       "      <th></th>\n",
       "      <th></th>\n",
       "      <th></th>\n",
       "      <th></th>\n",
       "      <th></th>\n",
       "      <th></th>\n",
       "      <th></th>\n",
       "      <th></th>\n",
       "    </tr>\n",
       "  </thead>\n",
       "  <tbody>\n",
       "    <tr>\n",
       "      <th>2017-08-07</th>\n",
       "      <td>118.398842</td>\n",
       "      <td>34.819897</td>\n",
       "      <td>248.500000</td>\n",
       "      <td>124.582672</td>\n",
       "      <td>128.122437</td>\n",
       "      <td>118.650002</td>\n",
       "      <td>110.201439</td>\n",
       "      <td>340.265076</td>\n",
       "      <td>23.750000</td>\n",
       "      <td>89.706154</td>\n",
       "    </tr>\n",
       "    <tr>\n",
       "      <th>2017-08-08</th>\n",
       "      <td>119.224564</td>\n",
       "      <td>33.940849</td>\n",
       "      <td>248.500000</td>\n",
       "      <td>131.109573</td>\n",
       "      <td>129.979980</td>\n",
       "      <td>124.650002</td>\n",
       "      <td>108.611290</td>\n",
       "      <td>336.689545</td>\n",
       "      <td>21.950001</td>\n",
       "      <td>85.210144</td>\n",
       "    </tr>\n",
       "    <tr>\n",
       "      <th>2017-08-09</th>\n",
       "      <td>115.738197</td>\n",
       "      <td>33.012974</td>\n",
       "      <td>248.000000</td>\n",
       "      <td>127.996368</td>\n",
       "      <td>128.366852</td>\n",
       "      <td>120.800003</td>\n",
       "      <td>105.479202</td>\n",
       "      <td>338.061005</td>\n",
       "      <td>21.450001</td>\n",
       "      <td>87.517609</td>\n",
       "    </tr>\n",
       "    <tr>\n",
       "      <th>2017-08-10</th>\n",
       "      <td>114.453751</td>\n",
       "      <td>32.964138</td>\n",
       "      <td>248.000000</td>\n",
       "      <td>129.843628</td>\n",
       "      <td>128.317978</td>\n",
       "      <td>117.150002</td>\n",
       "      <td>101.913437</td>\n",
       "      <td>333.505829</td>\n",
       "      <td>20.700001</td>\n",
       "      <td>85.257706</td>\n",
       "    </tr>\n",
       "    <tr>\n",
       "      <th>2017-08-11</th>\n",
       "      <td>112.604057</td>\n",
       "      <td>32.036255</td>\n",
       "      <td>248.000000</td>\n",
       "      <td>127.740234</td>\n",
       "      <td>128.415741</td>\n",
       "      <td>112.449997</td>\n",
       "      <td>101.865250</td>\n",
       "      <td>330.518066</td>\n",
       "      <td>20.549999</td>\n",
       "      <td>85.543190</td>\n",
       "    </tr>\n",
       "    <tr>\n",
       "      <th>...</th>\n",
       "      <td>...</td>\n",
       "      <td>...</td>\n",
       "      <td>...</td>\n",
       "      <td>...</td>\n",
       "      <td>...</td>\n",
       "      <td>...</td>\n",
       "      <td>...</td>\n",
       "      <td>...</td>\n",
       "      <td>...</td>\n",
       "      <td>...</td>\n",
       "    </tr>\n",
       "    <tr>\n",
       "      <th>2022-07-29</th>\n",
       "      <td>262.850006</td>\n",
       "      <td>62.900002</td>\n",
       "      <td>232.000000</td>\n",
       "      <td>550.250000</td>\n",
       "      <td>151.149994</td>\n",
       "      <td>186.800003</td>\n",
       "      <td>169.100006</td>\n",
       "      <td>240.449997</td>\n",
       "      <td>9.350000</td>\n",
       "      <td>241.600006</td>\n",
       "    </tr>\n",
       "    <tr>\n",
       "      <th>2022-08-01</th>\n",
       "      <td>270.450012</td>\n",
       "      <td>63.400002</td>\n",
       "      <td>236.550003</td>\n",
       "      <td>559.650024</td>\n",
       "      <td>149.399994</td>\n",
       "      <td>188.500000</td>\n",
       "      <td>173.850006</td>\n",
       "      <td>245.800003</td>\n",
       "      <td>9.400000</td>\n",
       "      <td>240.000000</td>\n",
       "    </tr>\n",
       "    <tr>\n",
       "      <th>2022-08-02</th>\n",
       "      <td>268.450012</td>\n",
       "      <td>66.050003</td>\n",
       "      <td>247.050003</td>\n",
       "      <td>565.900024</td>\n",
       "      <td>153.899994</td>\n",
       "      <td>188.100006</td>\n",
       "      <td>171.600006</td>\n",
       "      <td>238.250000</td>\n",
       "      <td>9.800000</td>\n",
       "      <td>241.100006</td>\n",
       "    </tr>\n",
       "    <tr>\n",
       "      <th>2022-08-03</th>\n",
       "      <td>273.950012</td>\n",
       "      <td>66.300003</td>\n",
       "      <td>250.050003</td>\n",
       "      <td>573.200012</td>\n",
       "      <td>153.350006</td>\n",
       "      <td>190.500000</td>\n",
       "      <td>177.199997</td>\n",
       "      <td>247.350006</td>\n",
       "      <td>9.700000</td>\n",
       "      <td>238.199997</td>\n",
       "    </tr>\n",
       "    <tr>\n",
       "      <th>2022-08-04</th>\n",
       "      <td>270.450012</td>\n",
       "      <td>67.250000</td>\n",
       "      <td>239.000000</td>\n",
       "      <td>569.299988</td>\n",
       "      <td>153.699997</td>\n",
       "      <td>192.699997</td>\n",
       "      <td>180.199997</td>\n",
       "      <td>265.700012</td>\n",
       "      <td>9.450000</td>\n",
       "      <td>236.250000</td>\n",
       "    </tr>\n",
       "  </tbody>\n",
       "</table>\n",
       "<p>1236 rows × 10 columns</p>\n",
       "</div>"
      ],
      "text/plain": [
       "              INDHOTEL  ORIENTHOT  ...     HLVLTD         BLS\n",
       "date                               ...                       \n",
       "2017-08-07  118.398842  34.819897  ...  23.750000   89.706154\n",
       "2017-08-08  119.224564  33.940849  ...  21.950001   85.210144\n",
       "2017-08-09  115.738197  33.012974  ...  21.450001   87.517609\n",
       "2017-08-10  114.453751  32.964138  ...  20.700001   85.257706\n",
       "2017-08-11  112.604057  32.036255  ...  20.549999   85.543190\n",
       "...                ...        ...  ...        ...         ...\n",
       "2022-07-29  262.850006  62.900002  ...   9.350000  241.600006\n",
       "2022-08-01  270.450012  63.400002  ...   9.400000  240.000000\n",
       "2022-08-02  268.450012  66.050003  ...   9.800000  241.100006\n",
       "2022-08-03  273.950012  66.300003  ...   9.700000  238.199997\n",
       "2022-08-04  270.450012  67.250000  ...   9.450000  236.250000\n",
       "\n",
       "[1236 rows x 10 columns]"
      ]
     },
     "execution_count": 3,
     "metadata": {},
     "output_type": "execute_result"
    }
   ],
   "source": [
    "# Creating a dataframe with the price data\n",
    "\n",
    "df = indhotel['Date']\n",
    "df = df.to_frame()\n",
    "df['INDHOTEL'] = indhotel['Adj Close']\n",
    "df['ORIENTHOT'] = orienthot['Adj Close']\n",
    "df['SAYAJIHOTL'] = sayajihotl['Adj Close']\n",
    "df['JUBLFOOD'] = jublfood['Adj Close']\n",
    "df['EIHOTEL'] = eihotel['Adj Close']\n",
    "df['SPECIALITY'] = speciality['Adj Close']\n",
    "df['ROHLTD'] = rohltd['Adj Close']\n",
    "df['WONDERLA'] = wonderla['Adj Close']\n",
    "df['HLVLTD'] = hlvltd['Adj Close']\n",
    "df['BLS'] = bls['Adj Close']\n",
    "df.rename(columns = {'Date' : 'date'}, inplace = True)\n",
    "df.set_index('date', inplace = True)\n",
    "df"
   ]
  },
  {
   "cell_type": "code",
   "execution_count": 4,
   "id": "ff26ab7e",
   "metadata": {},
   "outputs": [
    {
     "data": {
      "text/html": [
       "<div>\n",
       "<style scoped>\n",
       "    .dataframe tbody tr th:only-of-type {\n",
       "        vertical-align: middle;\n",
       "    }\n",
       "\n",
       "    .dataframe tbody tr th {\n",
       "        vertical-align: top;\n",
       "    }\n",
       "\n",
       "    .dataframe thead th {\n",
       "        text-align: right;\n",
       "    }\n",
       "</style>\n",
       "<table border=\"1\" class=\"dataframe\">\n",
       "  <thead>\n",
       "    <tr style=\"text-align: right;\">\n",
       "      <th></th>\n",
       "      <th>INDHOTEL</th>\n",
       "      <th>ORIENTHOT</th>\n",
       "      <th>SAYAJIHOTL</th>\n",
       "      <th>JUBLFOOD</th>\n",
       "      <th>EIHOTEL</th>\n",
       "      <th>SPECIALITY</th>\n",
       "      <th>ROHLTD</th>\n",
       "      <th>WONDERLA</th>\n",
       "      <th>HLVLTD</th>\n",
       "      <th>BLS</th>\n",
       "    </tr>\n",
       "    <tr>\n",
       "      <th>date</th>\n",
       "      <th></th>\n",
       "      <th></th>\n",
       "      <th></th>\n",
       "      <th></th>\n",
       "      <th></th>\n",
       "      <th></th>\n",
       "      <th></th>\n",
       "      <th></th>\n",
       "      <th></th>\n",
       "      <th></th>\n",
       "    </tr>\n",
       "  </thead>\n",
       "  <tbody>\n",
       "    <tr>\n",
       "      <th>2017-08-08</th>\n",
       "      <td>0.006974</td>\n",
       "      <td>-0.025246</td>\n",
       "      <td>0.000000</td>\n",
       "      <td>0.052390</td>\n",
       "      <td>0.014498</td>\n",
       "      <td>0.050569</td>\n",
       "      <td>-0.014429</td>\n",
       "      <td>-0.010508</td>\n",
       "      <td>-0.075789</td>\n",
       "      <td>-0.050119</td>\n",
       "    </tr>\n",
       "    <tr>\n",
       "      <th>2017-08-09</th>\n",
       "      <td>-0.029242</td>\n",
       "      <td>-0.027338</td>\n",
       "      <td>-0.002012</td>\n",
       "      <td>-0.023745</td>\n",
       "      <td>-0.012411</td>\n",
       "      <td>-0.030886</td>\n",
       "      <td>-0.028838</td>\n",
       "      <td>0.004073</td>\n",
       "      <td>-0.022779</td>\n",
       "      <td>0.027080</td>\n",
       "    </tr>\n",
       "    <tr>\n",
       "      <th>2017-08-10</th>\n",
       "      <td>-0.011098</td>\n",
       "      <td>-0.001479</td>\n",
       "      <td>0.000000</td>\n",
       "      <td>0.014432</td>\n",
       "      <td>-0.000381</td>\n",
       "      <td>-0.030215</td>\n",
       "      <td>-0.033805</td>\n",
       "      <td>-0.013474</td>\n",
       "      <td>-0.034965</td>\n",
       "      <td>-0.025822</td>\n",
       "    </tr>\n",
       "    <tr>\n",
       "      <th>2017-08-11</th>\n",
       "      <td>-0.016161</td>\n",
       "      <td>-0.028148</td>\n",
       "      <td>0.000000</td>\n",
       "      <td>-0.016199</td>\n",
       "      <td>0.000762</td>\n",
       "      <td>-0.040120</td>\n",
       "      <td>-0.000473</td>\n",
       "      <td>-0.008959</td>\n",
       "      <td>-0.007246</td>\n",
       "      <td>0.003348</td>\n",
       "    </tr>\n",
       "    <tr>\n",
       "      <th>2017-08-14</th>\n",
       "      <td>0.021650</td>\n",
       "      <td>0.027439</td>\n",
       "      <td>0.000000</td>\n",
       "      <td>0.057149</td>\n",
       "      <td>-0.007994</td>\n",
       "      <td>-0.002223</td>\n",
       "      <td>0.022706</td>\n",
       "      <td>0.005483</td>\n",
       "      <td>0.017032</td>\n",
       "      <td>-0.000835</td>\n",
       "    </tr>\n",
       "    <tr>\n",
       "      <th>...</th>\n",
       "      <td>...</td>\n",
       "      <td>...</td>\n",
       "      <td>...</td>\n",
       "      <td>...</td>\n",
       "      <td>...</td>\n",
       "      <td>...</td>\n",
       "      <td>...</td>\n",
       "      <td>...</td>\n",
       "      <td>...</td>\n",
       "      <td>...</td>\n",
       "    </tr>\n",
       "    <tr>\n",
       "      <th>2022-07-29</th>\n",
       "      <td>-0.001140</td>\n",
       "      <td>-0.027069</td>\n",
       "      <td>0.015540</td>\n",
       "      <td>-0.026881</td>\n",
       "      <td>-0.009502</td>\n",
       "      <td>0.168596</td>\n",
       "      <td>0.011364</td>\n",
       "      <td>0.018640</td>\n",
       "      <td>0.038889</td>\n",
       "      <td>0.015766</td>\n",
       "    </tr>\n",
       "    <tr>\n",
       "      <th>2022-08-01</th>\n",
       "      <td>0.028914</td>\n",
       "      <td>0.007949</td>\n",
       "      <td>0.019612</td>\n",
       "      <td>0.017083</td>\n",
       "      <td>-0.011578</td>\n",
       "      <td>0.009101</td>\n",
       "      <td>0.028090</td>\n",
       "      <td>0.022250</td>\n",
       "      <td>0.005348</td>\n",
       "      <td>-0.006623</td>\n",
       "    </tr>\n",
       "    <tr>\n",
       "      <th>2022-08-02</th>\n",
       "      <td>-0.007395</td>\n",
       "      <td>0.041798</td>\n",
       "      <td>0.044388</td>\n",
       "      <td>0.011168</td>\n",
       "      <td>0.030120</td>\n",
       "      <td>-0.002122</td>\n",
       "      <td>-0.012942</td>\n",
       "      <td>-0.030716</td>\n",
       "      <td>0.042553</td>\n",
       "      <td>0.004583</td>\n",
       "    </tr>\n",
       "    <tr>\n",
       "      <th>2022-08-03</th>\n",
       "      <td>0.020488</td>\n",
       "      <td>0.003785</td>\n",
       "      <td>0.012143</td>\n",
       "      <td>0.012900</td>\n",
       "      <td>-0.003574</td>\n",
       "      <td>0.012759</td>\n",
       "      <td>0.032634</td>\n",
       "      <td>0.038195</td>\n",
       "      <td>-0.010204</td>\n",
       "      <td>-0.012028</td>\n",
       "    </tr>\n",
       "    <tr>\n",
       "      <th>2022-08-04</th>\n",
       "      <td>-0.012776</td>\n",
       "      <td>0.014329</td>\n",
       "      <td>-0.044191</td>\n",
       "      <td>-0.006804</td>\n",
       "      <td>0.002282</td>\n",
       "      <td>0.011549</td>\n",
       "      <td>0.016930</td>\n",
       "      <td>0.074186</td>\n",
       "      <td>-0.025773</td>\n",
       "      <td>-0.008186</td>\n",
       "    </tr>\n",
       "  </tbody>\n",
       "</table>\n",
       "<p>1235 rows × 10 columns</p>\n",
       "</div>"
      ],
      "text/plain": [
       "            INDHOTEL  ORIENTHOT  SAYAJIHOTL  ...  WONDERLA    HLVLTD       BLS\n",
       "date                                         ...                              \n",
       "2017-08-08  0.006974  -0.025246    0.000000  ... -0.010508 -0.075789 -0.050119\n",
       "2017-08-09 -0.029242  -0.027338   -0.002012  ...  0.004073 -0.022779  0.027080\n",
       "2017-08-10 -0.011098  -0.001479    0.000000  ... -0.013474 -0.034965 -0.025822\n",
       "2017-08-11 -0.016161  -0.028148    0.000000  ... -0.008959 -0.007246  0.003348\n",
       "2017-08-14  0.021650   0.027439    0.000000  ...  0.005483  0.017032 -0.000835\n",
       "...              ...        ...         ...  ...       ...       ...       ...\n",
       "2022-07-29 -0.001140  -0.027069    0.015540  ...  0.018640  0.038889  0.015766\n",
       "2022-08-01  0.028914   0.007949    0.019612  ...  0.022250  0.005348 -0.006623\n",
       "2022-08-02 -0.007395   0.041798    0.044388  ... -0.030716  0.042553  0.004583\n",
       "2022-08-03  0.020488   0.003785    0.012143  ...  0.038195 -0.010204 -0.012028\n",
       "2022-08-04 -0.012776   0.014329   -0.044191  ...  0.074186 -0.025773 -0.008186\n",
       "\n",
       "[1235 rows x 10 columns]"
      ]
     },
     "execution_count": 4,
     "metadata": {},
     "output_type": "execute_result"
    }
   ],
   "source": [
    "# Calculating daily returns (or percentage change) of the stocks\n",
    "\n",
    "df_returns = df.pct_change(1).dropna()\n",
    "df_returns"
   ]
  },
  {
   "cell_type": "code",
   "execution_count": 5,
   "id": "30e9613f",
   "metadata": {},
   "outputs": [
    {
     "data": {
      "text/plain": [
       "INDHOTEL      0.281628\n",
       "ORIENTHOT     0.281471\n",
       "SAYAJIHOTL    0.099728\n",
       "JUBLFOOD      0.462523\n",
       "EIHOTEL       0.132631\n",
       "SPECIALITY    0.285300\n",
       "ROHLTD        0.294658\n",
       "WONDERLA      0.008885\n",
       "HLVLTD       -0.026207\n",
       "BLS           0.438118\n",
       "dtype: float64"
      ]
     },
     "execution_count": 5,
     "metadata": {},
     "output_type": "execute_result"
    }
   ],
   "source": [
    "# 5-year average annualised return of each stock\n",
    "# assuming there are 250 trading days in a year\n",
    "\n",
    "stock_returns = (1 + df_returns.mean()) ** 250 - 1\n",
    "stock_returns"
   ]
  },
  {
   "cell_type": "code",
   "execution_count": 6,
   "id": "5215a666",
   "metadata": {},
   "outputs": [
    {
     "data": {
      "text/plain": [
       "INDHOTEL      0.403586\n",
       "ORIENTHOT     0.486158\n",
       "SAYAJIHOTL    0.453728\n",
       "JUBLFOOD      0.382512\n",
       "EIHOTEL       0.421395\n",
       "SPECIALITY    0.557594\n",
       "ROHLTD        0.570942\n",
       "WONDERLA      0.344446\n",
       "HLVLTD        0.576816\n",
       "BLS           0.582517\n",
       "dtype: float64"
      ]
     },
     "execution_count": 6,
     "metadata": {},
     "output_type": "execute_result"
    }
   ],
   "source": [
    "# 5-year annualised risk (volatility) of each stock\n",
    "\n",
    "df_returns.std(ddof=1) * np.sqrt(250)"
   ]
  },
  {
   "cell_type": "code",
   "execution_count": 7,
   "id": "30a8501e",
   "metadata": {},
   "outputs": [
    {
     "data": {
      "text/html": [
       "<div>\n",
       "<style scoped>\n",
       "    .dataframe tbody tr th:only-of-type {\n",
       "        vertical-align: middle;\n",
       "    }\n",
       "\n",
       "    .dataframe tbody tr th {\n",
       "        vertical-align: top;\n",
       "    }\n",
       "\n",
       "    .dataframe thead th {\n",
       "        text-align: right;\n",
       "    }\n",
       "</style>\n",
       "<table border=\"1\" class=\"dataframe\">\n",
       "  <thead>\n",
       "    <tr style=\"text-align: right;\">\n",
       "      <th></th>\n",
       "      <th>INDHOTEL</th>\n",
       "      <th>ORIENTHOT</th>\n",
       "      <th>SAYAJIHOTL</th>\n",
       "      <th>JUBLFOOD</th>\n",
       "      <th>EIHOTEL</th>\n",
       "      <th>SPECIALITY</th>\n",
       "      <th>ROHLTD</th>\n",
       "      <th>WONDERLA</th>\n",
       "      <th>HLVLTD</th>\n",
       "      <th>BLS</th>\n",
       "    </tr>\n",
       "  </thead>\n",
       "  <tbody>\n",
       "    <tr>\n",
       "      <th>INDHOTEL</th>\n",
       "      <td>0.000652</td>\n",
       "      <td>0.000285</td>\n",
       "      <td>0.000053</td>\n",
       "      <td>0.000198</td>\n",
       "      <td>0.000327</td>\n",
       "      <td>0.000255</td>\n",
       "      <td>0.000356</td>\n",
       "      <td>0.000175</td>\n",
       "      <td>0.000209</td>\n",
       "      <td>0.000173</td>\n",
       "    </tr>\n",
       "    <tr>\n",
       "      <th>ORIENTHOT</th>\n",
       "      <td>0.000285</td>\n",
       "      <td>0.000945</td>\n",
       "      <td>0.000100</td>\n",
       "      <td>0.000104</td>\n",
       "      <td>0.000302</td>\n",
       "      <td>0.000304</td>\n",
       "      <td>0.000416</td>\n",
       "      <td>0.000139</td>\n",
       "      <td>0.000301</td>\n",
       "      <td>0.000217</td>\n",
       "    </tr>\n",
       "    <tr>\n",
       "      <th>SAYAJIHOTL</th>\n",
       "      <td>0.000053</td>\n",
       "      <td>0.000100</td>\n",
       "      <td>0.000823</td>\n",
       "      <td>0.000043</td>\n",
       "      <td>0.000083</td>\n",
       "      <td>0.000161</td>\n",
       "      <td>0.000100</td>\n",
       "      <td>0.000046</td>\n",
       "      <td>0.000125</td>\n",
       "      <td>0.000117</td>\n",
       "    </tr>\n",
       "    <tr>\n",
       "      <th>JUBLFOOD</th>\n",
       "      <td>0.000198</td>\n",
       "      <td>0.000104</td>\n",
       "      <td>0.000043</td>\n",
       "      <td>0.000585</td>\n",
       "      <td>0.000173</td>\n",
       "      <td>0.000164</td>\n",
       "      <td>0.000188</td>\n",
       "      <td>0.000119</td>\n",
       "      <td>0.000109</td>\n",
       "      <td>0.000131</td>\n",
       "    </tr>\n",
       "    <tr>\n",
       "      <th>EIHOTEL</th>\n",
       "      <td>0.000327</td>\n",
       "      <td>0.000302</td>\n",
       "      <td>0.000083</td>\n",
       "      <td>0.000173</td>\n",
       "      <td>0.000710</td>\n",
       "      <td>0.000275</td>\n",
       "      <td>0.000411</td>\n",
       "      <td>0.000173</td>\n",
       "      <td>0.000253</td>\n",
       "      <td>0.000183</td>\n",
       "    </tr>\n",
       "    <tr>\n",
       "      <th>SPECIALITY</th>\n",
       "      <td>0.000255</td>\n",
       "      <td>0.000304</td>\n",
       "      <td>0.000161</td>\n",
       "      <td>0.000164</td>\n",
       "      <td>0.000275</td>\n",
       "      <td>0.001244</td>\n",
       "      <td>0.000399</td>\n",
       "      <td>0.000200</td>\n",
       "      <td>0.000290</td>\n",
       "      <td>0.000294</td>\n",
       "    </tr>\n",
       "    <tr>\n",
       "      <th>ROHLTD</th>\n",
       "      <td>0.000356</td>\n",
       "      <td>0.000416</td>\n",
       "      <td>0.000100</td>\n",
       "      <td>0.000188</td>\n",
       "      <td>0.000411</td>\n",
       "      <td>0.000399</td>\n",
       "      <td>0.001304</td>\n",
       "      <td>0.000232</td>\n",
       "      <td>0.000376</td>\n",
       "      <td>0.000282</td>\n",
       "    </tr>\n",
       "    <tr>\n",
       "      <th>WONDERLA</th>\n",
       "      <td>0.000175</td>\n",
       "      <td>0.000139</td>\n",
       "      <td>0.000046</td>\n",
       "      <td>0.000119</td>\n",
       "      <td>0.000173</td>\n",
       "      <td>0.000200</td>\n",
       "      <td>0.000232</td>\n",
       "      <td>0.000475</td>\n",
       "      <td>0.000132</td>\n",
       "      <td>0.000183</td>\n",
       "    </tr>\n",
       "    <tr>\n",
       "      <th>HLVLTD</th>\n",
       "      <td>0.000209</td>\n",
       "      <td>0.000301</td>\n",
       "      <td>0.000125</td>\n",
       "      <td>0.000109</td>\n",
       "      <td>0.000253</td>\n",
       "      <td>0.000290</td>\n",
       "      <td>0.000376</td>\n",
       "      <td>0.000132</td>\n",
       "      <td>0.001331</td>\n",
       "      <td>0.000285</td>\n",
       "    </tr>\n",
       "    <tr>\n",
       "      <th>BLS</th>\n",
       "      <td>0.000173</td>\n",
       "      <td>0.000217</td>\n",
       "      <td>0.000117</td>\n",
       "      <td>0.000131</td>\n",
       "      <td>0.000183</td>\n",
       "      <td>0.000294</td>\n",
       "      <td>0.000282</td>\n",
       "      <td>0.000183</td>\n",
       "      <td>0.000285</td>\n",
       "      <td>0.001357</td>\n",
       "    </tr>\n",
       "  </tbody>\n",
       "</table>\n",
       "</div>"
      ],
      "text/plain": [
       "            INDHOTEL  ORIENTHOT  SAYAJIHOTL  ...  WONDERLA    HLVLTD       BLS\n",
       "INDHOTEL    0.000652   0.000285    0.000053  ...  0.000175  0.000209  0.000173\n",
       "ORIENTHOT   0.000285   0.000945    0.000100  ...  0.000139  0.000301  0.000217\n",
       "SAYAJIHOTL  0.000053   0.000100    0.000823  ...  0.000046  0.000125  0.000117\n",
       "JUBLFOOD    0.000198   0.000104    0.000043  ...  0.000119  0.000109  0.000131\n",
       "EIHOTEL     0.000327   0.000302    0.000083  ...  0.000173  0.000253  0.000183\n",
       "SPECIALITY  0.000255   0.000304    0.000161  ...  0.000200  0.000290  0.000294\n",
       "ROHLTD      0.000356   0.000416    0.000100  ...  0.000232  0.000376  0.000282\n",
       "WONDERLA    0.000175   0.000139    0.000046  ...  0.000475  0.000132  0.000183\n",
       "HLVLTD      0.000209   0.000301    0.000125  ...  0.000132  0.001331  0.000285\n",
       "BLS         0.000173   0.000217    0.000117  ...  0.000183  0.000285  0.001357\n",
       "\n",
       "[10 rows x 10 columns]"
      ]
     },
     "execution_count": 7,
     "metadata": {},
     "output_type": "execute_result"
    }
   ],
   "source": [
    "# Generating a covariance matrix of stock returns\n",
    "\n",
    "vcv_matrix = df_returns.cov(ddof=1)\n",
    "vcv_matrix"
   ]
  },
  {
   "cell_type": "code",
   "execution_count": 8,
   "id": "9192edd3",
   "metadata": {},
   "outputs": [
    {
     "data": {
      "text/plain": [
       "[0.1, 0.1, 0.1, 0.1, 0.1, 0.1, 0.1, 0.1, 0.1, 0.1]"
      ]
     },
     "execution_count": 8,
     "metadata": {},
     "output_type": "execute_result"
    }
   ],
   "source": [
    "# Generating an array (or a vector) of equal weights to be used as inputs in the 'minimize' function\n",
    "\n",
    "num_stocks = len(df.columns)\n",
    "initial_weights = [1 / num_stocks] * num_stocks\n",
    "initial_weights"
   ]
  },
  {
   "cell_type": "code",
   "execution_count": 9,
   "id": "1f15d1f2",
   "metadata": {},
   "outputs": [],
   "source": [
    "# Developing a function for generating annualised portfolio returns using 'weights' as an input\n",
    "\n",
    "def getPortReturn(weights):\n",
    "    port_return = np.dot(np.transpose(weights), stock_returns)\n",
    "    \n",
    "    return port_return"
   ]
  },
  {
   "cell_type": "code",
   "execution_count": 10,
   "id": "2e6538fb",
   "metadata": {},
   "outputs": [
    {
     "data": {
      "text/plain": [
       "0.2258735153889861"
      ]
     },
     "execution_count": 10,
     "metadata": {},
     "output_type": "execute_result"
    }
   ],
   "source": [
    "# Calculating portfolio return using the initial weights\n",
    "\n",
    "getPortReturn(initial_weights)"
   ]
  },
  {
   "cell_type": "code",
   "execution_count": 11,
   "id": "4e3145b5",
   "metadata": {},
   "outputs": [],
   "source": [
    "# Developing a function for calculating the portfolio risk using 'weights' as an input\n",
    "\n",
    "def getPortRisk(weights):\n",
    "    port_risk = np.sqrt(np.dot(np.transpose(weights), np.dot(vcv_matrix, weights)) * 250)\n",
    "    \n",
    "    return port_risk"
   ]
  },
  {
   "cell_type": "code",
   "execution_count": 12,
   "id": "27abaaef",
   "metadata": {},
   "outputs": [
    {
     "data": {
      "text/plain": [
       "0.26606013662556854"
      ]
     },
     "execution_count": 12,
     "metadata": {},
     "output_type": "execute_result"
    }
   ],
   "source": [
    "# Calculating annualised standard deviation of the portfolio (Portfolio risk)\n",
    "\n",
    "getPortRisk(initial_weights)"
   ]
  },
  {
   "cell_type": "code",
   "execution_count": 13,
   "id": "b91adb9b",
   "metadata": {},
   "outputs": [],
   "source": [
    "# Developing a function for generating a table of returns & risks using 'weights' as an input\n",
    "\n",
    "def getResultsTable(weights):\n",
    "    results_df = pd.DataFrame(weights)\n",
    "    results_df.index = df.columns\n",
    "    results_df.rename(columns = {results_df.columns[0] : 'weights'}, inplace = True)\n",
    "    results_df['annualised_returns'] = (1 + df_returns.mean()) ** 250 - 1\n",
    "    results_df['weighted_returns'] = results_df['weights'] * results_df['annualised_returns']\n",
    "    results_df['annualised_risks'] = df_returns.std(ddof=1) * np.sqrt(250)\n",
    "    \n",
    "    print('Sum of weighted_returns is', round(results_df['weighted_returns'].sum(), 5))\n",
    "    results_df = round(results_df, 5)\n",
    "    return results_df"
   ]
  },
  {
   "cell_type": "code",
   "execution_count": 14,
   "id": "c05d6192",
   "metadata": {},
   "outputs": [
    {
     "name": "stdout",
     "output_type": "stream",
     "text": [
      "Sum of weighted_returns is 0.22587\n"
     ]
    },
    {
     "data": {
      "text/html": [
       "<div>\n",
       "<style scoped>\n",
       "    .dataframe tbody tr th:only-of-type {\n",
       "        vertical-align: middle;\n",
       "    }\n",
       "\n",
       "    .dataframe tbody tr th {\n",
       "        vertical-align: top;\n",
       "    }\n",
       "\n",
       "    .dataframe thead th {\n",
       "        text-align: right;\n",
       "    }\n",
       "</style>\n",
       "<table border=\"1\" class=\"dataframe\">\n",
       "  <thead>\n",
       "    <tr style=\"text-align: right;\">\n",
       "      <th></th>\n",
       "      <th>weights</th>\n",
       "      <th>annualised_returns</th>\n",
       "      <th>weighted_returns</th>\n",
       "      <th>annualised_risks</th>\n",
       "    </tr>\n",
       "  </thead>\n",
       "  <tbody>\n",
       "    <tr>\n",
       "      <th>INDHOTEL</th>\n",
       "      <td>0.1</td>\n",
       "      <td>0.28163</td>\n",
       "      <td>0.02816</td>\n",
       "      <td>0.40359</td>\n",
       "    </tr>\n",
       "    <tr>\n",
       "      <th>ORIENTHOT</th>\n",
       "      <td>0.1</td>\n",
       "      <td>0.28147</td>\n",
       "      <td>0.02815</td>\n",
       "      <td>0.48616</td>\n",
       "    </tr>\n",
       "    <tr>\n",
       "      <th>SAYAJIHOTL</th>\n",
       "      <td>0.1</td>\n",
       "      <td>0.09973</td>\n",
       "      <td>0.00997</td>\n",
       "      <td>0.45373</td>\n",
       "    </tr>\n",
       "    <tr>\n",
       "      <th>JUBLFOOD</th>\n",
       "      <td>0.1</td>\n",
       "      <td>0.46252</td>\n",
       "      <td>0.04625</td>\n",
       "      <td>0.38251</td>\n",
       "    </tr>\n",
       "    <tr>\n",
       "      <th>EIHOTEL</th>\n",
       "      <td>0.1</td>\n",
       "      <td>0.13263</td>\n",
       "      <td>0.01326</td>\n",
       "      <td>0.42140</td>\n",
       "    </tr>\n",
       "    <tr>\n",
       "      <th>SPECIALITY</th>\n",
       "      <td>0.1</td>\n",
       "      <td>0.28530</td>\n",
       "      <td>0.02853</td>\n",
       "      <td>0.55759</td>\n",
       "    </tr>\n",
       "    <tr>\n",
       "      <th>ROHLTD</th>\n",
       "      <td>0.1</td>\n",
       "      <td>0.29466</td>\n",
       "      <td>0.02947</td>\n",
       "      <td>0.57094</td>\n",
       "    </tr>\n",
       "    <tr>\n",
       "      <th>WONDERLA</th>\n",
       "      <td>0.1</td>\n",
       "      <td>0.00889</td>\n",
       "      <td>0.00089</td>\n",
       "      <td>0.34445</td>\n",
       "    </tr>\n",
       "    <tr>\n",
       "      <th>HLVLTD</th>\n",
       "      <td>0.1</td>\n",
       "      <td>-0.02621</td>\n",
       "      <td>-0.00262</td>\n",
       "      <td>0.57682</td>\n",
       "    </tr>\n",
       "    <tr>\n",
       "      <th>BLS</th>\n",
       "      <td>0.1</td>\n",
       "      <td>0.43812</td>\n",
       "      <td>0.04381</td>\n",
       "      <td>0.58252</td>\n",
       "    </tr>\n",
       "  </tbody>\n",
       "</table>\n",
       "</div>"
      ],
      "text/plain": [
       "            weights  annualised_returns  weighted_returns  annualised_risks\n",
       "INDHOTEL        0.1             0.28163           0.02816           0.40359\n",
       "ORIENTHOT       0.1             0.28147           0.02815           0.48616\n",
       "SAYAJIHOTL      0.1             0.09973           0.00997           0.45373\n",
       "JUBLFOOD        0.1             0.46252           0.04625           0.38251\n",
       "EIHOTEL         0.1             0.13263           0.01326           0.42140\n",
       "SPECIALITY      0.1             0.28530           0.02853           0.55759\n",
       "ROHLTD          0.1             0.29466           0.02947           0.57094\n",
       "WONDERLA        0.1             0.00889           0.00089           0.34445\n",
       "HLVLTD          0.1            -0.02621          -0.00262           0.57682\n",
       "BLS             0.1             0.43812           0.04381           0.58252"
      ]
     },
     "execution_count": 14,
     "metadata": {},
     "output_type": "execute_result"
    }
   ],
   "source": [
    "# Turning the results from using initial weights into a Pandas dataframe\n",
    "\n",
    "\n",
    "getResultsTable(initial_weights)"
   ]
  },
  {
   "cell_type": "code",
   "execution_count": 15,
   "id": "aaf54646",
   "metadata": {},
   "outputs": [
    {
     "data": {
      "text/html": [
       "<div>\n",
       "<style scoped>\n",
       "    .dataframe tbody tr th:only-of-type {\n",
       "        vertical-align: middle;\n",
       "    }\n",
       "\n",
       "    .dataframe tbody tr th {\n",
       "        vertical-align: top;\n",
       "    }\n",
       "\n",
       "    .dataframe thead th {\n",
       "        text-align: right;\n",
       "    }\n",
       "</style>\n",
       "<table border=\"1\" class=\"dataframe\">\n",
       "  <thead>\n",
       "    <tr style=\"text-align: right;\">\n",
       "      <th></th>\n",
       "      <th>MICROCAP250</th>\n",
       "    </tr>\n",
       "    <tr>\n",
       "      <th>date</th>\n",
       "      <th></th>\n",
       "    </tr>\n",
       "  </thead>\n",
       "  <tbody>\n",
       "    <tr>\n",
       "      <th>08-08-2017 0:00</th>\n",
       "      <td>-0.015044</td>\n",
       "    </tr>\n",
       "    <tr>\n",
       "      <th>09-08-2017 0:00</th>\n",
       "      <td>-0.015494</td>\n",
       "    </tr>\n",
       "    <tr>\n",
       "      <th>10-08-2017 0:00</th>\n",
       "      <td>-0.038609</td>\n",
       "    </tr>\n",
       "    <tr>\n",
       "      <th>11-08-2017 0:00</th>\n",
       "      <td>-0.007618</td>\n",
       "    </tr>\n",
       "    <tr>\n",
       "      <th>14-08-2017 0:00</th>\n",
       "      <td>0.025756</td>\n",
       "    </tr>\n",
       "    <tr>\n",
       "      <th>...</th>\n",
       "      <td>...</td>\n",
       "    </tr>\n",
       "    <tr>\n",
       "      <th>29-07-2022 0:00</th>\n",
       "      <td>0.008704</td>\n",
       "    </tr>\n",
       "    <tr>\n",
       "      <th>01-08-2022 0:00</th>\n",
       "      <td>0.015414</td>\n",
       "    </tr>\n",
       "    <tr>\n",
       "      <th>02-08-2022 0:00</th>\n",
       "      <td>0.006549</td>\n",
       "    </tr>\n",
       "    <tr>\n",
       "      <th>03-08-2022 0:00</th>\n",
       "      <td>-0.004447</td>\n",
       "    </tr>\n",
       "    <tr>\n",
       "      <th>04-08-2022 0:00</th>\n",
       "      <td>-0.001635</td>\n",
       "    </tr>\n",
       "  </tbody>\n",
       "</table>\n",
       "<p>1233 rows × 1 columns</p>\n",
       "</div>"
      ],
      "text/plain": [
       "                 MICROCAP250\n",
       "date                        \n",
       "08-08-2017 0:00    -0.015044\n",
       "09-08-2017 0:00    -0.015494\n",
       "10-08-2017 0:00    -0.038609\n",
       "11-08-2017 0:00    -0.007618\n",
       "14-08-2017 0:00     0.025756\n",
       "...                      ...\n",
       "29-07-2022 0:00     0.008704\n",
       "01-08-2022 0:00     0.015414\n",
       "02-08-2022 0:00     0.006549\n",
       "03-08-2022 0:00    -0.004447\n",
       "04-08-2022 0:00    -0.001635\n",
       "\n",
       "[1233 rows x 1 columns]"
      ]
     },
     "execution_count": 15,
     "metadata": {},
     "output_type": "execute_result"
    }
   ],
   "source": [
    "# Importing market portfolio data (NSE: MICROCAP 250) and calculating it's daily returns\n",
    "\n",
    "market= pd.read_csv('NSE_MICROCAP250.csv')\n",
    "market = market[['DateTime', 'Nifty Microcap 250']]\n",
    "market.rename(columns = {'DateTime' : 'date', 'Nifty Microcap 250' : 'MICROCAP250'}, inplace = True)\n",
    "market.set_index('date', inplace = True)\n",
    "market = market.pct_change(1).dropna()\n",
    "market"
   ]
  },
  {
   "cell_type": "code",
   "execution_count": 16,
   "id": "95d88d17",
   "metadata": {},
   "outputs": [
    {
     "data": {
      "text/plain": [
       "0.13539531874890343"
      ]
     },
     "execution_count": 16,
     "metadata": {},
     "output_type": "execute_result"
    }
   ],
   "source": [
    "# Annualised return of the market portfolio (MICROCAP 250) for the previous 5 years\n",
    "market_return =(1 + market['MICROCAP250'].mean()) ** 250 - 1\n",
    "market_return"
   ]
  },
  {
   "cell_type": "code",
   "execution_count": 17,
   "id": "88872dcb",
   "metadata": {},
   "outputs": [
    {
     "data": {
      "text/plain": [
       "0.22410486543096333"
      ]
     },
     "execution_count": 17,
     "metadata": {},
     "output_type": "execute_result"
    }
   ],
   "source": [
    "# Annualised risk of the market\n",
    "\n",
    "market_risk = np.std(market['MICROCAP250'], ddof = 1) * np.sqrt(250)\n",
    "market_risk"
   ]
  },
  {
   "cell_type": "code",
   "execution_count": 18,
   "id": "46536081",
   "metadata": {},
   "outputs": [
    {
     "data": {
      "text/plain": [
       "((0, 1),\n",
       " (0, 1),\n",
       " (0, 1),\n",
       " (0, 1),\n",
       " (0, 1),\n",
       " (0, 1),\n",
       " (0, 1),\n",
       " (0, 1),\n",
       " (0, 1),\n",
       " (0, 1))"
      ]
     },
     "execution_count": 18,
     "metadata": {},
     "output_type": "execute_result"
    }
   ],
   "source": [
    "# For the 'minimize' function, ensuring the individual weights should be between 0 & 1\n",
    "# No 'Short' positions allowed\n",
    "\n",
    "bounds = tuple((0,1) for i in range(num_stocks))\n",
    "bounds"
   ]
  },
  {
   "cell_type": "code",
   "execution_count": 19,
   "id": "e1ba5939",
   "metadata": {},
   "outputs": [],
   "source": [
    "# Developing a function for comparison of returns\n",
    "\n",
    "def getResultsReturn(weights):\n",
    "    print('Return of the portfolio with weights optimised is', getPortReturn(weights))\n",
    "    print('Return of the market portfolio (MICROCAP 250) is', market_return)\n",
    "    print('Return of the portfolio with intial weights (equal weights) is', getPortReturn(initial_weights))"
   ]
  },
  {
   "cell_type": "code",
   "execution_count": 20,
   "id": "c8d0ecb7",
   "metadata": {},
   "outputs": [],
   "source": [
    "# Developing a function for comparison of risks\n",
    "\n",
    "def getResultsRisk(weights):\n",
    "    print('Risk of the portfolio with weights optimised is', getPortRisk(weights))\n",
    "    print('Risk of the market portfolio (MICROCAP 250) is', market_risk)\n",
    "    print('Risk of the portfolio with intial weights (equal weights) is', getPortRisk(initial_weights))"
   ]
  },
  {
   "cell_type": "markdown",
   "id": "12cbf179",
   "metadata": {},
   "source": [
    "----------------------------------------------------\n",
    "## Task 1:"
   ]
  },
  {
   "cell_type": "markdown",
   "id": "05cac1f2",
   "metadata": {},
   "source": [
    "#### Generating optimised weights for the assets in the portfolio where the expected return of the portfolio is equal to the annualised expected return of the market portfolio."
   ]
  },
  {
   "cell_type": "markdown",
   "id": "e77058e4",
   "metadata": {},
   "source": [
    "The next lines of codes describe the parameters to be used in the `minimize` function from the *scipy.optimize* package to optimise weights for the portfolio that would result in the **expected return** of the portfolio and market return to be **identical**.  \n",
    "  \n",
    "We will input the function *getPortReturn*, *initial_weights* for the initial guess (x0) and bounds of 0 & 1 in the *'minimize'* function."
   ]
  },
  {
   "cell_type": "code",
   "execution_count": 21,
   "id": "10ace76c",
   "metadata": {},
   "outputs": [],
   "source": [
    "# Putting in constraints for the 'minimize' function\n",
    "# Constraint 1 => Sum of all the weights should equal to 1\n",
    "# Constraint 2 => Portfolio return should be equal to the Market return\n",
    "\n",
    "cons1 = ({'type' : 'eq', 'fun' : lambda w : np.sum(w) - 1},\n",
    "         {'type' : 'eq', 'fun' : lambda x : np.dot(np.transpose(x), stock_returns) - market_return})"
   ]
  },
  {
   "cell_type": "code",
   "execution_count": 22,
   "id": "374d81d5",
   "metadata": {},
   "outputs": [
    {
     "data": {
      "text/plain": [
       "     fun: 0.13539531865000154\n",
       "     jac: array([ 0.28162777,  0.28147124,  0.09972784,  0.46252332,  0.13263066,\n",
       "        0.28530035,  0.29465813,  0.00888517, -0.02620699,  0.43811766])\n",
       " message: 'Optimization terminated successfully'\n",
       "    nfev: 22\n",
       "     nit: 2\n",
       "    njev: 2\n",
       "  status: 0\n",
       " success: True\n",
       "       x: array([0.07988207, 0.07993855, 0.14551742, 0.01460914, 0.13364502,\n",
       "       0.07855689, 0.0751803 , 0.17829637, 0.19095875, 0.02341549])"
      ]
     },
     "execution_count": 22,
     "metadata": {},
     "output_type": "execute_result"
    }
   ],
   "source": [
    "# Putting in all the parameters in the 'minimize' function\n",
    "\n",
    "results1 = minimize(fun = getPortReturn, x0 = initial_weights, bounds = bounds, constraints = cons1)\n",
    "results1"
   ]
  },
  {
   "cell_type": "code",
   "execution_count": 23,
   "id": "5a515290",
   "metadata": {},
   "outputs": [
    {
     "name": "stdout",
     "output_type": "stream",
     "text": [
      "Sum of weighted_returns is 0.1354\n"
     ]
    },
    {
     "data": {
      "text/html": [
       "<div>\n",
       "<style scoped>\n",
       "    .dataframe tbody tr th:only-of-type {\n",
       "        vertical-align: middle;\n",
       "    }\n",
       "\n",
       "    .dataframe tbody tr th {\n",
       "        vertical-align: top;\n",
       "    }\n",
       "\n",
       "    .dataframe thead th {\n",
       "        text-align: right;\n",
       "    }\n",
       "</style>\n",
       "<table border=\"1\" class=\"dataframe\">\n",
       "  <thead>\n",
       "    <tr style=\"text-align: right;\">\n",
       "      <th></th>\n",
       "      <th>weights</th>\n",
       "      <th>annualised_returns</th>\n",
       "      <th>weighted_returns</th>\n",
       "      <th>annualised_risks</th>\n",
       "    </tr>\n",
       "  </thead>\n",
       "  <tbody>\n",
       "    <tr>\n",
       "      <th>INDHOTEL</th>\n",
       "      <td>0.07988</td>\n",
       "      <td>0.28163</td>\n",
       "      <td>0.02250</td>\n",
       "      <td>0.40359</td>\n",
       "    </tr>\n",
       "    <tr>\n",
       "      <th>ORIENTHOT</th>\n",
       "      <td>0.07994</td>\n",
       "      <td>0.28147</td>\n",
       "      <td>0.02250</td>\n",
       "      <td>0.48616</td>\n",
       "    </tr>\n",
       "    <tr>\n",
       "      <th>SAYAJIHOTL</th>\n",
       "      <td>0.14552</td>\n",
       "      <td>0.09973</td>\n",
       "      <td>0.01451</td>\n",
       "      <td>0.45373</td>\n",
       "    </tr>\n",
       "    <tr>\n",
       "      <th>JUBLFOOD</th>\n",
       "      <td>0.01461</td>\n",
       "      <td>0.46252</td>\n",
       "      <td>0.00676</td>\n",
       "      <td>0.38251</td>\n",
       "    </tr>\n",
       "    <tr>\n",
       "      <th>EIHOTEL</th>\n",
       "      <td>0.13365</td>\n",
       "      <td>0.13263</td>\n",
       "      <td>0.01773</td>\n",
       "      <td>0.42140</td>\n",
       "    </tr>\n",
       "    <tr>\n",
       "      <th>SPECIALITY</th>\n",
       "      <td>0.07856</td>\n",
       "      <td>0.28530</td>\n",
       "      <td>0.02241</td>\n",
       "      <td>0.55759</td>\n",
       "    </tr>\n",
       "    <tr>\n",
       "      <th>ROHLTD</th>\n",
       "      <td>0.07518</td>\n",
       "      <td>0.29466</td>\n",
       "      <td>0.02215</td>\n",
       "      <td>0.57094</td>\n",
       "    </tr>\n",
       "    <tr>\n",
       "      <th>WONDERLA</th>\n",
       "      <td>0.17830</td>\n",
       "      <td>0.00889</td>\n",
       "      <td>0.00158</td>\n",
       "      <td>0.34445</td>\n",
       "    </tr>\n",
       "    <tr>\n",
       "      <th>HLVLTD</th>\n",
       "      <td>0.19096</td>\n",
       "      <td>-0.02621</td>\n",
       "      <td>-0.00500</td>\n",
       "      <td>0.57682</td>\n",
       "    </tr>\n",
       "    <tr>\n",
       "      <th>BLS</th>\n",
       "      <td>0.02342</td>\n",
       "      <td>0.43812</td>\n",
       "      <td>0.01026</td>\n",
       "      <td>0.58252</td>\n",
       "    </tr>\n",
       "  </tbody>\n",
       "</table>\n",
       "</div>"
      ],
      "text/plain": [
       "            weights  annualised_returns  weighted_returns  annualised_risks\n",
       "INDHOTEL    0.07988             0.28163           0.02250           0.40359\n",
       "ORIENTHOT   0.07994             0.28147           0.02250           0.48616\n",
       "SAYAJIHOTL  0.14552             0.09973           0.01451           0.45373\n",
       "JUBLFOOD    0.01461             0.46252           0.00676           0.38251\n",
       "EIHOTEL     0.13365             0.13263           0.01773           0.42140\n",
       "SPECIALITY  0.07856             0.28530           0.02241           0.55759\n",
       "ROHLTD      0.07518             0.29466           0.02215           0.57094\n",
       "WONDERLA    0.17830             0.00889           0.00158           0.34445\n",
       "HLVLTD      0.19096            -0.02621          -0.00500           0.57682\n",
       "BLS         0.02342             0.43812           0.01026           0.58252"
      ]
     },
     "execution_count": 23,
     "metadata": {},
     "output_type": "execute_result"
    }
   ],
   "source": [
    "# Turning the results from using the optimised weights into a Pandas dataframe\n",
    "\n",
    "getResultsTable(results1['x'])"
   ]
  },
  {
   "cell_type": "code",
   "execution_count": 24,
   "id": "ada22141",
   "metadata": {},
   "outputs": [
    {
     "name": "stdout",
     "output_type": "stream",
     "text": [
      "Return of the portfolio with weights optimised is 0.13539531865000154\n",
      "Return of the market portfolio (MICROCAP 250) is 0.13539531874890343\n",
      "Return of the portfolio with intial weights (equal weights) is 0.2258735153889861\n"
     ]
    }
   ],
   "source": [
    "# Comparison of the returns\n",
    "\n",
    "getResultsReturn(results1['x'])"
   ]
  },
  {
   "cell_type": "markdown",
   "id": "3f4ea74d",
   "metadata": {},
   "source": [
    "**Observation:** The market return and the optimised portfolio's expected return are identical (***13.540%***). Whereas, the expected return would be higher (***22.587%***) if equal weights for the stocks were used instead of the optimised weights."
   ]
  },
  {
   "cell_type": "code",
   "execution_count": 25,
   "id": "7af4dde9",
   "metadata": {},
   "outputs": [
    {
     "name": "stdout",
     "output_type": "stream",
     "text": [
      "Risk of the portfolio with weights optimised is 0.2707559565460811\n",
      "Risk of the market portfolio (MICROCAP 250) is 0.22410486543096333\n",
      "Risk of the portfolio with intial weights (equal weights) is 0.26606013662556854\n"
     ]
    }
   ],
   "source": [
    "# Comparison of the risks\n",
    "\n",
    "getResultsRisk(results1['x'])"
   ]
  },
  {
   "cell_type": "markdown",
   "id": "0e46dcf9",
   "metadata": {},
   "source": [
    "**Observation:** The risk of the market portfolio is the lowest (***22.410%***), compared to the risks of optimised portfolio and  equally-weighted portfolio. The optimised weights used in the portfolio result in a relatively higher risk (***27.076%***) than the equally-weighted portfolio (***26.606%***), *a difference of **47 bps** between them*."
   ]
  },
  {
   "cell_type": "markdown",
   "id": "81345c14",
   "metadata": {},
   "source": [
    "**CONCLUSION:**  \n",
    "**(1)** For generating a market return of ***13.540%*** over a period of 5 years (5th August, 2017 to 4th August, 2022), the market portfolio (MICROCAP 250) had a standard deviation or volatility (risk) of ***22.410%***. Whereas, for generating the same return, a portfolio of 10 stocks from the *Indian Hospitality sector* would have had a volatility of ***27.076%***, reflecting the **riskier** nature of the portfolio.   \n",
    "\n",
    "**(2)** Although the market return optimised portfolio and the equally-weighted portfolio would have had a similar level of ***risks*** (***27.076% vs. 26.606%***), the ***returns*** generated vary significantly i.e. ***13.540% & 22.587%*** respectively. This is because the **weights** *ranging from **1.461% to 19.096%** were applied* in the optimised portfolio, where:  \n",
    "> the ***highest weight*** of **19.096%** was given to the '*HLV Ltd.*' stocks which had a 5-year annualised return of **-2.621%** but had an annualised standard deviation of **57.682%** , and  \n",
    "> the ***lowest weight*** of **1.461%** was given to the '*Jubilant FoodWorks Ltd.*' stocks which had a 5-year annualised return of **46.252%** but had an annualised standard deviation of **38.251%**.  \n",
    "\n",
    "These weights significantly bring down the expected portfolio return to the market return level (as programmed). Whereas, the equally-weighted portfolio used a ***single weight*** throughout the whole portfolio (***10.000%***)."
   ]
  },
  {
   "cell_type": "markdown",
   "id": "35abc479",
   "metadata": {},
   "source": [
    "--------------------------------------\n",
    "## Task 2:"
   ]
  },
  {
   "cell_type": "markdown",
   "id": "53f7c4ff",
   "metadata": {},
   "source": [
    "#### Generating optimised weights for the assets in the portfolio where the annualised risk of the portfolio is equal to the annualised risk of the market."
   ]
  },
  {
   "cell_type": "markdown",
   "id": "9a59fd69",
   "metadata": {},
   "source": [
    "The next lines of codes describe the parameters to be used in the `minimize` function from the *scipy.optimize* package to optimise weights for the portfolio that would result in the **annualised risks** of the portfolio and the market to be **identical**.  \n",
    "  \n",
    "We will input the function *getPortRisk*,  *initial_weights* for the initial guess (x0), and the bounds of 0 & 1 in the *'minimize'* function here too."
   ]
  },
  {
   "cell_type": "code",
   "execution_count": 26,
   "id": "15747a24",
   "metadata": {},
   "outputs": [],
   "source": [
    "# Putting in constraints for the 'minimize' function\n",
    "# Constraint 1 => Sum of all the weights should equal to 1\n",
    "# Constraint 2 => Portfolio risk should be equal to the Market risk.\n",
    "\n",
    "cons2 = ({'type' : 'eq', 'fun' : lambda w : np.sum(w) - 1},\n",
    "         {'type' : 'eq', 'fun' : lambda x : np.sqrt(np.dot(np.transpose(x), np.dot(vcv_matrix, x)) * 250) - market_risk})"
   ]
  },
  {
   "cell_type": "code",
   "execution_count": 27,
   "id": "2d0fcb7d",
   "metadata": {},
   "outputs": [
    {
     "data": {
      "text/plain": [
       "     fun: 0.23163563001976278\n",
       "     jac: array([0.23163564, 0.23163563, 0.23163564, 0.23163564, 0.23163564,\n",
       "       0.23163564, 0.25888861, 0.23163563, 0.23163564, 0.23163563])\n",
       " message: 'Positive directional derivative for linesearch'\n",
       "    nfev: 1026\n",
       "     nit: 66\n",
       "    njev: 62\n",
       "  status: 8\n",
       " success: False\n",
       "       x: array([8.35602448e-02, 7.06912543e-02, 1.99805998e-01, 2.18176513e-01,\n",
       "       6.09288065e-02, 5.21393677e-03, 5.38621300e-14, 2.72984774e-01,\n",
       "       4.66619933e-02, 4.19764795e-02])"
      ]
     },
     "execution_count": 27,
     "metadata": {},
     "output_type": "execute_result"
    }
   ],
   "source": [
    "# Putting in all the parameters in the 'minimize' function\n",
    "\n",
    "results2 = minimize(fun = getPortRisk, x0 = initial_weights, bounds = bounds, constraints = cons2)\n",
    "results2"
   ]
  },
  {
   "cell_type": "markdown",
   "id": "8f2178a5",
   "metadata": {},
   "source": [
    "**Observation:** The 'minimize' function gives out an error message \"*Positive directional derivative for linesearch*\". **BUT WHY??**  \n",
    "Explained in Section 3 below."
   ]
  },
  {
   "cell_type": "markdown",
   "id": "725a0112",
   "metadata": {},
   "source": [
    "**CONCLUSION:**  \n",
    "The current portfolio cannot be optimised to have an annualised risk identical to the benchmark index (*MICROCAP 250*)."
   ]
  },
  {
   "cell_type": "markdown",
   "id": "b1bcfc29",
   "metadata": {},
   "source": [
    "-------------------------------------------\n",
    "## Task 3:"
   ]
  },
  {
   "cell_type": "markdown",
   "id": "29561065",
   "metadata": {},
   "source": [
    "#### Generating optimised weights for the assets in the portfolio where the annualised risk of the portfolio is minimised."
   ]
  },
  {
   "cell_type": "markdown",
   "id": "465ba53a",
   "metadata": {},
   "source": [
    "The next lines of codes describe the parameters to be used in the `minimize` function from the *scipy.optimize* package to optimise weights for the portfolio that would result in the **annualised risk** of the portfolio to be **minimised**.  \n",
    "  \n",
    "We will input the function *getPortRisk*,  *initial_weights* for the initial guess (x0), and the bounds of 0 & 1 in the *'minimize'* function here too."
   ]
  },
  {
   "cell_type": "code",
   "execution_count": 28,
   "id": "7d45d91e",
   "metadata": {},
   "outputs": [],
   "source": [
    "# Putting in a constraint for the 'minimize' function\n",
    "# Constraint => Sum of all the weights should equal to 1\n",
    "\n",
    "cons3 = ({'type' : 'eq', 'fun' : lambda w : np.sum(w) - 1})"
   ]
  },
  {
   "cell_type": "code",
   "execution_count": 29,
   "id": "76f5baa2",
   "metadata": {},
   "outputs": [
    {
     "data": {
      "text/plain": [
       "     fun: 0.231636160468506\n",
       "     jac: array([0.23177355, 0.23154981, 0.23142236, 0.23204926, 0.23113988,\n",
       "       0.23175581, 0.25879102, 0.2315236 , 0.23173119, 0.23168526])\n",
       " message: 'Optimization terminated successfully'\n",
       "    nfev: 66\n",
       "     nit: 6\n",
       "    njev: 6\n",
       "  status: 0\n",
       " success: True\n",
       "       x: array([8.40376793e-02, 7.06834711e-02, 1.99562261e-01, 2.18990201e-01,\n",
       "       5.98454759e-02, 5.37797719e-03, 1.03270257e-17, 2.72684644e-01,\n",
       "       4.68036231e-02, 4.20146677e-02])"
      ]
     },
     "execution_count": 29,
     "metadata": {},
     "output_type": "execute_result"
    }
   ],
   "source": [
    "# Putting in all the parameters in the 'minimize' function\n",
    "\n",
    "results3 = minimize(fun = getPortRisk, x0 = initial_weights, bounds = bounds, constraints = cons3)\n",
    "results3"
   ]
  },
  {
   "cell_type": "code",
   "execution_count": 30,
   "id": "f96b74ba",
   "metadata": {},
   "outputs": [
    {
     "name": "stdout",
     "output_type": "stream",
     "text": [
      "Sum of weighted_returns is 0.19383\n"
     ]
    },
    {
     "data": {
      "text/html": [
       "<div>\n",
       "<style scoped>\n",
       "    .dataframe tbody tr th:only-of-type {\n",
       "        vertical-align: middle;\n",
       "    }\n",
       "\n",
       "    .dataframe tbody tr th {\n",
       "        vertical-align: top;\n",
       "    }\n",
       "\n",
       "    .dataframe thead th {\n",
       "        text-align: right;\n",
       "    }\n",
       "</style>\n",
       "<table border=\"1\" class=\"dataframe\">\n",
       "  <thead>\n",
       "    <tr style=\"text-align: right;\">\n",
       "      <th></th>\n",
       "      <th>weights</th>\n",
       "      <th>annualised_returns</th>\n",
       "      <th>weighted_returns</th>\n",
       "      <th>annualised_risks</th>\n",
       "    </tr>\n",
       "  </thead>\n",
       "  <tbody>\n",
       "    <tr>\n",
       "      <th>INDHOTEL</th>\n",
       "      <td>0.08404</td>\n",
       "      <td>0.28163</td>\n",
       "      <td>0.02367</td>\n",
       "      <td>0.40359</td>\n",
       "    </tr>\n",
       "    <tr>\n",
       "      <th>ORIENTHOT</th>\n",
       "      <td>0.07068</td>\n",
       "      <td>0.28147</td>\n",
       "      <td>0.01990</td>\n",
       "      <td>0.48616</td>\n",
       "    </tr>\n",
       "    <tr>\n",
       "      <th>SAYAJIHOTL</th>\n",
       "      <td>0.19956</td>\n",
       "      <td>0.09973</td>\n",
       "      <td>0.01990</td>\n",
       "      <td>0.45373</td>\n",
       "    </tr>\n",
       "    <tr>\n",
       "      <th>JUBLFOOD</th>\n",
       "      <td>0.21899</td>\n",
       "      <td>0.46252</td>\n",
       "      <td>0.10129</td>\n",
       "      <td>0.38251</td>\n",
       "    </tr>\n",
       "    <tr>\n",
       "      <th>EIHOTEL</th>\n",
       "      <td>0.05985</td>\n",
       "      <td>0.13263</td>\n",
       "      <td>0.00794</td>\n",
       "      <td>0.42140</td>\n",
       "    </tr>\n",
       "    <tr>\n",
       "      <th>SPECIALITY</th>\n",
       "      <td>0.00538</td>\n",
       "      <td>0.28530</td>\n",
       "      <td>0.00153</td>\n",
       "      <td>0.55759</td>\n",
       "    </tr>\n",
       "    <tr>\n",
       "      <th>ROHLTD</th>\n",
       "      <td>0.00000</td>\n",
       "      <td>0.29466</td>\n",
       "      <td>0.00000</td>\n",
       "      <td>0.57094</td>\n",
       "    </tr>\n",
       "    <tr>\n",
       "      <th>WONDERLA</th>\n",
       "      <td>0.27268</td>\n",
       "      <td>0.00889</td>\n",
       "      <td>0.00242</td>\n",
       "      <td>0.34445</td>\n",
       "    </tr>\n",
       "    <tr>\n",
       "      <th>HLVLTD</th>\n",
       "      <td>0.04680</td>\n",
       "      <td>-0.02621</td>\n",
       "      <td>-0.00123</td>\n",
       "      <td>0.57682</td>\n",
       "    </tr>\n",
       "    <tr>\n",
       "      <th>BLS</th>\n",
       "      <td>0.04201</td>\n",
       "      <td>0.43812</td>\n",
       "      <td>0.01841</td>\n",
       "      <td>0.58252</td>\n",
       "    </tr>\n",
       "  </tbody>\n",
       "</table>\n",
       "</div>"
      ],
      "text/plain": [
       "            weights  annualised_returns  weighted_returns  annualised_risks\n",
       "INDHOTEL    0.08404             0.28163           0.02367           0.40359\n",
       "ORIENTHOT   0.07068             0.28147           0.01990           0.48616\n",
       "SAYAJIHOTL  0.19956             0.09973           0.01990           0.45373\n",
       "JUBLFOOD    0.21899             0.46252           0.10129           0.38251\n",
       "EIHOTEL     0.05985             0.13263           0.00794           0.42140\n",
       "SPECIALITY  0.00538             0.28530           0.00153           0.55759\n",
       "ROHLTD      0.00000             0.29466           0.00000           0.57094\n",
       "WONDERLA    0.27268             0.00889           0.00242           0.34445\n",
       "HLVLTD      0.04680            -0.02621          -0.00123           0.57682\n",
       "BLS         0.04201             0.43812           0.01841           0.58252"
      ]
     },
     "execution_count": 30,
     "metadata": {},
     "output_type": "execute_result"
    }
   ],
   "source": [
    "# Turning the results from the optimised weights into a Pandas dataframe\n",
    "\n",
    "getResultsTable(results3['x'])"
   ]
  },
  {
   "cell_type": "code",
   "execution_count": 31,
   "id": "741a3e48",
   "metadata": {},
   "outputs": [
    {
     "name": "stdout",
     "output_type": "stream",
     "text": [
      "Return of the portfolio with weights optimised is 0.19382801683284415\n",
      "Return of the market portfolio (MICROCAP 250) is 0.13539531874890343\n",
      "Return of the portfolio with intial weights (equal weights) is 0.2258735153889861\n"
     ]
    }
   ],
   "source": [
    "# Comparison of the returns\n",
    "\n",
    "getResultsReturn(results3['x'])"
   ]
  },
  {
   "cell_type": "markdown",
   "id": "d2022e28",
   "metadata": {},
   "source": [
    "**Observation:** The optimised portfolio's expected return (***19.383%***) is higher than the historical return of MICROCAP 250 (***13.540%***). Whereas, the return would have been higher (***22.587%***) if equal weights were used for the stocks in the portfolio instead of the optimised weights."
   ]
  },
  {
   "cell_type": "code",
   "execution_count": 32,
   "id": "73b4568b",
   "metadata": {},
   "outputs": [
    {
     "name": "stdout",
     "output_type": "stream",
     "text": [
      "Risk of the portfolio with weights optimised is 0.231636160468506\n",
      "Risk of the market portfolio (MICROCAP 250) is 0.22410486543096333\n",
      "Risk of the portfolio with intial weights (equal weights) is 0.26606013662556854\n"
     ]
    }
   ],
   "source": [
    "# Comparison of the risks\n",
    "\n",
    "getResultsRisk(results3['x'])"
   ]
  },
  {
   "cell_type": "markdown",
   "id": "c48add17",
   "metadata": {},
   "source": [
    "**Observation:** The risk of the market portfolio is the lowest (***22.410%***), compared to the risk-optimised portfolio and the equally-weighted portfolio. The `minimize` function generated the optimised weights which have brought the portfolio risk to the lowest possible (***23.164%***), whereas, using the equal-weights for the stocks would have resulted in higher volatility (risk) (***26.606%***)."
   ]
  },
  {
   "cell_type": "markdown",
   "id": "39b20926",
   "metadata": {},
   "source": [
    "**In 'Section 2', why did the *scipy.optimize* package's `minimize` function not work?**  \n",
    "As seen above, after optimisation through the 'minimize' function, the lowest possible risk from the portfolio is *23.164%*. Whereas, the market risk is *22.410%* which is *75.4 bps (0.754%)* lower than 23.164%. Hence, *scipy.optimize* package's 'minimize' function returned an error when asked to bring the portfolio risk to the market risk level in Section 2."
   ]
  },
  {
   "cell_type": "markdown",
   "id": "fa92bb0c",
   "metadata": {},
   "source": [
    "**CONCLUSION:**  \n",
    "**(1)** An 'Indian Hospitality sector' portfolio of 10 stocks would have had a volatility of ***23.164%*** if the weights of the stocks were risk-optimised, whilst generating ***19.383%*** annualised expected return. Since the portfolio's lowest risk possible is still higher than the market risk of ***22.410%***, this resulted in the 'minimize' function showing an error in Section 2. This shows that the portfolio is still riskier (***75.4 bps***)  than the benchmark index *MICROCAP 250* even at its lowest possible risk.  \n",
    "\n",
    "**(2)** In comparison to the equally-weighted portfolio, the risk-optimised portfolio carries relatively lower risk (***26.606% vs. 23.164%***), but it would generate relatively lower return (***22.587% vs. 19.383%***), thereby reflecting a direct relationship between returns and risks.  \n",
    "  \n",
    "**(3)** To achieve the lowest possible volatility, the risk-optimised portfolio consists of weights ranging from ***0.000% to 27.268%*** where:\n",
    "> the ***highest weight*** of **27.268%** was applied to the *Wonderla Holidays Ltd.* stocks which had a 5-year annualised return of **0.889%** but had an annualised standard deviation of **34.445%** , and  \n",
    "> the ***lowest weight*** or 'no allocation' of **0.000%** was given to the '*Royal Orchid Hotels Ltd.*' stocks which had a 5-year annualised return of **29.466%** but had an annualised standard deviation of **57.094%**.\n",
    "\n",
    "The `minimize` function from *scipy.optimize* package ensured that the portfolio achieved its lowest possible risk, *even if one of the portfolio assets remains unallocated*."
   ]
  },
  {
   "cell_type": "markdown",
   "id": "389d7476",
   "metadata": {},
   "source": [
    "-------------------------------\n",
    "## Task 4:"
   ]
  },
  {
   "cell_type": "markdown",
   "id": "28e8b2aa",
   "metadata": {},
   "source": [
    "#### Invest in the Optimised Portfolio, or the Market Portfolio?"
   ]
  },
  {
   "cell_type": "markdown",
   "id": "35fa5100",
   "metadata": {},
   "source": [
    "Based on the results from the optimisations, especially from the one in *Section 3*, it would be better to invest in the portfolio  of 10 'Indian Hospitality' stocks than the MICROCAP 250 companies. It has similar risk like the market portfolio, but would generate significantly higher return than the market portfolio."
   ]
  }
 ],
 "metadata": {
  "kernelspec": {
   "display_name": "Python 3 (Spyder)",
   "language": "python3",
   "name": "python3"
  },
  "language_info": {
   "codemirror_mode": {
    "name": "ipython",
    "version": 3
   },
   "file_extension": ".py",
   "mimetype": "text/x-python",
   "name": "python",
   "nbconvert_exporter": "python",
   "pygments_lexer": "ipython3",
   "version": "3.8.8"
  }
 },
 "nbformat": 4,
 "nbformat_minor": 5
}
