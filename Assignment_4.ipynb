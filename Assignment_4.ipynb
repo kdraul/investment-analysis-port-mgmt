{
 "cells": [
  {
   "cell_type": "markdown",
   "id": "344fecb1",
   "metadata": {},
   "source": [
    "## Assignment 4: Calculating Variance and Standard Deviation (Volatility) of a Stock.\n",
    "\n",
    "The daily stock data for Apple Inc. (AAPL) was obtained from *Yahoo Finance*.  \n",
    "  \n",
    "### Questions for this assignment\n",
    "1. Using data you obtained from the previous assignment (for the stock you chose), compute your stock's daily variance and standard deviation.\n",
    "2. Estimate your stock's annualised standard deviation."
   ]
  },
  {
   "cell_type": "code",
   "execution_count": 1,
   "id": "72ea159c",
   "metadata": {},
   "outputs": [],
   "source": [
    "import pandas as pd\n",
    "import numpy as np"
   ]
  },
  {
   "cell_type": "code",
   "execution_count": 2,
   "id": "c00da250",
   "metadata": {},
   "outputs": [
    {
     "data": {
      "text/html": [
       "<div>\n",
       "<style scoped>\n",
       "    .dataframe tbody tr th:only-of-type {\n",
       "        vertical-align: middle;\n",
       "    }\n",
       "\n",
       "    .dataframe tbody tr th {\n",
       "        vertical-align: top;\n",
       "    }\n",
       "\n",
       "    .dataframe thead th {\n",
       "        text-align: right;\n",
       "    }\n",
       "</style>\n",
       "<table border=\"1\" class=\"dataframe\">\n",
       "  <thead>\n",
       "    <tr style=\"text-align: right;\">\n",
       "      <th></th>\n",
       "      <th>price_t</th>\n",
       "      <th>returns</th>\n",
       "    </tr>\n",
       "    <tr>\n",
       "      <th>date</th>\n",
       "      <th></th>\n",
       "      <th></th>\n",
       "    </tr>\n",
       "  </thead>\n",
       "  <tbody>\n",
       "    <tr>\n",
       "      <th>2000-01-03</th>\n",
       "      <td>0.854541</td>\n",
       "      <td>NaN</td>\n",
       "    </tr>\n",
       "    <tr>\n",
       "      <th>2000-01-04</th>\n",
       "      <td>0.782494</td>\n",
       "      <td>-0.084311</td>\n",
       "    </tr>\n",
       "    <tr>\n",
       "      <th>2000-01-05</th>\n",
       "      <td>0.793945</td>\n",
       "      <td>0.014634</td>\n",
       "    </tr>\n",
       "    <tr>\n",
       "      <th>2000-01-06</th>\n",
       "      <td>0.725238</td>\n",
       "      <td>-0.086539</td>\n",
       "    </tr>\n",
       "    <tr>\n",
       "      <th>2000-01-07</th>\n",
       "      <td>0.759592</td>\n",
       "      <td>0.047369</td>\n",
       "    </tr>\n",
       "    <tr>\n",
       "      <th>...</th>\n",
       "      <td>...</td>\n",
       "      <td>...</td>\n",
       "    </tr>\n",
       "    <tr>\n",
       "      <th>2007-12-21</th>\n",
       "      <td>5.921304</td>\n",
       "      <td>0.035788</td>\n",
       "    </tr>\n",
       "    <tr>\n",
       "      <th>2007-12-24</th>\n",
       "      <td>6.070626</td>\n",
       "      <td>0.025218</td>\n",
       "    </tr>\n",
       "    <tr>\n",
       "      <th>2007-12-26</th>\n",
       "      <td>6.075208</td>\n",
       "      <td>0.000755</td>\n",
       "    </tr>\n",
       "    <tr>\n",
       "      <th>2007-12-27</th>\n",
       "      <td>6.063604</td>\n",
       "      <td>-0.001910</td>\n",
       "    </tr>\n",
       "    <tr>\n",
       "      <th>2007-12-28</th>\n",
       "      <td>6.102079</td>\n",
       "      <td>0.006345</td>\n",
       "    </tr>\n",
       "  </tbody>\n",
       "</table>\n",
       "<p>2009 rows × 2 columns</p>\n",
       "</div>"
      ],
      "text/plain": [
       "             price_t   returns\n",
       "date                          \n",
       "2000-01-03  0.854541       NaN\n",
       "2000-01-04  0.782494 -0.084311\n",
       "2000-01-05  0.793945  0.014634\n",
       "2000-01-06  0.725238 -0.086539\n",
       "2000-01-07  0.759592  0.047369\n",
       "...              ...       ...\n",
       "2007-12-21  5.921304  0.035788\n",
       "2007-12-24  6.070626  0.025218\n",
       "2007-12-26  6.075208  0.000755\n",
       "2007-12-27  6.063604 -0.001910\n",
       "2007-12-28  6.102079  0.006345\n",
       "\n",
       "[2009 rows x 2 columns]"
      ]
     },
     "execution_count": 2,
     "metadata": {},
     "output_type": "execute_result"
    }
   ],
   "source": [
    "apple = pd.read_csv('AAPL_Daily_2000_to_2007.csv')\n",
    "apple = apple[['Date', 'Adj Close']]\n",
    "apple.rename(columns={'Date' : 'date', 'Adj Close' : 'price_t'}, inplace = True)\n",
    "apple['returns'] = apple['price_t'].pct_change(1)\n",
    "apple.set_index('date', inplace = True)\n",
    "apple"
   ]
  },
  {
   "cell_type": "markdown",
   "id": "87bba2fc",
   "metadata": {},
   "source": [
    "### Part 1 of the Assignment"
   ]
  },
  {
   "cell_type": "code",
   "execution_count": 3,
   "id": "14657c5d",
   "metadata": {},
   "outputs": [
    {
     "data": {
      "text/plain": [
       "0.0010573775782543584"
      ]
     },
     "execution_count": 3,
     "metadata": {},
     "output_type": "execute_result"
    }
   ],
   "source": [
    "# Daily variance\n",
    "var_aapl = np.var(apple['returns'], ddof=1)\n",
    "var_aapl"
   ]
  },
  {
   "cell_type": "code",
   "execution_count": 4,
   "id": "7001846b",
   "metadata": {},
   "outputs": [
    {
     "data": {
      "text/plain": [
       "0.032517342730523945"
      ]
     },
     "execution_count": 4,
     "metadata": {},
     "output_type": "execute_result"
    }
   ],
   "source": [
    "# Daily standard deviation (volatility)\n",
    "std_aapl = np.std(apple['returns'], ddof=1)\n",
    "std_aapl"
   ]
  },
  {
   "cell_type": "markdown",
   "id": "d5c19a08",
   "metadata": {},
   "source": [
    "### Part 2 of the Assignment"
   ]
  },
  {
   "cell_type": "code",
   "execution_count": 5,
   "id": "881233b9",
   "metadata": {},
   "outputs": [
    {
     "data": {
      "text/plain": [
       "0.5141443324238726"
      ]
     },
     "execution_count": 5,
     "metadata": {},
     "output_type": "execute_result"
    }
   ],
   "source": [
    "# Annualised standard deviation\n",
    "annual_std_aapl = std_aapl * np.sqrt(250)\n",
    "annual_std_aapl"
   ]
  },
  {
   "cell_type": "code",
   "execution_count": null,
   "id": "079067b1",
   "metadata": {},
   "outputs": [],
   "source": []
  }
 ],
 "metadata": {
  "kernelspec": {
   "display_name": "Python 3 (Spyder)",
   "language": "python3",
   "name": "python3"
  },
  "language_info": {
   "codemirror_mode": {
    "name": "ipython",
    "version": 3
   },
   "file_extension": ".py",
   "mimetype": "text/x-python",
   "name": "python",
   "nbconvert_exporter": "python",
   "pygments_lexer": "ipython3",
   "version": "3.8.8"
  }
 },
 "nbformat": 4,
 "nbformat_minor": 5
}
